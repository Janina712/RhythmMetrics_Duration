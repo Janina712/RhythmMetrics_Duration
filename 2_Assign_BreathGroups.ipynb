{
  "cells": [
    {
      "cell_type": "markdown",
      "metadata": {
        "id": "view-in-github",
        "colab_type": "text"
      },
      "source": [
        "<a href=\"https://colab.research.google.com/github/Janina712/RhythmMetrics_Duration/blob/main/2_Assign_BreathGroups.ipynb\" target=\"_parent\"><img src=\"https://colab.research.google.com/assets/colab-badge.svg\" alt=\"Open In Colab\"/></a>"
      ]
    },
    {
      "cell_type": "markdown",
      "metadata": {
        "id": "IOGde9FTtUeo"
      },
      "source": [
        "**0. Import & Set-Up**"
      ]
    },
    {
      "cell_type": "code",
      "execution_count": null,
      "metadata": {
        "id": "GggzK9XxtI4C"
      },
      "outputs": [],
      "source": [
        "import pandas as pd\n",
        "import numpy as np\n",
        "import os"
      ]
    },
    {
      "cell_type": "code",
      "execution_count": null,
      "metadata": {
        "id": "FexhekrPtPQI"
      },
      "outputs": [],
      "source": [
        "from google.colab import drive\n",
        "drive.mount(\"/content/gdrive\")"
      ]
    },
    {
      "cell_type": "code",
      "execution_count": null,
      "metadata": {
        "id": "lE2-5K7jtPMn"
      },
      "outputs": [],
      "source": [
        "%cd /content/gdrive/MyDrive/ATAS_Plus/Duration_Metrics/"
      ]
    },
    {
      "cell_type": "code",
      "execution_count": null,
      "metadata": {
        "id": "asquCqJltPIg"
      },
      "outputs": [],
      "source": [
        "read_TextGrid_duration = pd.read_excel(\"read_TextGrid_comb.xlsx\")\n",
        "df_read_txt_wide = pd.read_excel(\"read_txt_comb.xlsx\")\n",
        "frog_TextGrid_duration = pd.read_excel(\"frog_TextGrid_comb.xlsx\")\n",
        "df_frog_txt_wide = pd.read_excel(\"frog_txt_comb.xlsx\")"
      ]
    },
    {
      "cell_type": "markdown",
      "metadata": {
        "id": "yMNRRvjVtlFw"
      },
      "source": [
        "**1. Create empty dataframes row to store BG and FS assignment**"
      ]
    },
    {
      "cell_type": "code",
      "execution_count": null,
      "metadata": {
        "id": "JV7PHjbNtZrg"
      },
      "outputs": [],
      "source": [
        "BG_col = pd.DataFrame()\n",
        "BG_col_frog = pd.DataFrame()"
      ]
    },
    {
      "cell_type": "code",
      "execution_count": null,
      "metadata": {
        "id": "Bliof-6Jffyj"
      },
      "outputs": [],
      "source": [
        "FS_col = pd.DataFrame()\n",
        "FS_col_frog = pd.DataFrame()"
      ]
    },
    {
      "cell_type": "code",
      "execution_count": null,
      "metadata": {
        "id": "qwPMNLwfFC_r"
      },
      "outputs": [],
      "source": [
        "IDs_reading = ['NF1032','NF1024']\n",
        "IDs_frog = []"
      ]
    },
    {
      "cell_type": "code",
      "execution_count": null,
      "metadata": {
        "id": "ZFcqaloNtZg4"
      },
      "outputs": [],
      "source": [
        "IntervalTimes = df_read_txt_wide[['ID', 'Offset']]\n",
        "IntervalTimesfrog = df_frog_txt_wide[['ID', 'Offset']]"
      ]
    },
    {
      "cell_type": "code",
      "execution_count": null,
      "metadata": {
        "id": "p0-0ftkBte6I"
      },
      "outputs": [],
      "source": [
        "Offsets_all = read_TextGrid_duration[['ID', 'Offset']]\n",
        "Offsets_all_frog = frog_TextGrid_duration[['ID', 'Offset']]"
      ]
    },
    {
      "cell_type": "code",
      "execution_count": null,
      "metadata": {
        "id": "W_YWzsjFte1Q"
      },
      "outputs": [],
      "source": [
        "ID_freq_sound = read_TextGrid_duration['ID'].value_counts().sort_index()\n",
        "ID_freq_sound = ID_freq_sound.reindex(index = IDs_reading)\n",
        "ID_freq_sound_frog = frog_TextGrid_duration['ID'].value_counts().sort_index()\n",
        "ID_freq_sound_frog = ID_freq_sound_frog.reindex(index = IDs_frog)"
      ]
    },
    {
      "cell_type": "code",
      "execution_count": null,
      "metadata": {
        "id": "G6As2N1-YZ7y"
      },
      "outputs": [],
      "source": [
        "ID_freq_sound.reindex(index = IDs_reading)"
      ]
    },
    {
      "cell_type": "code",
      "source": [
        "read_TextGrid_duration['ID'].value_counts().sort_index()"
      ],
      "metadata": {
        "id": "yHN6ThDAOCIP"
      },
      "execution_count": null,
      "outputs": []
    },
    {
      "cell_type": "markdown",
      "metadata": {
        "id": "5xjbHYehtoYT"
      },
      "source": [
        "**3. Assign Breath Groups and FluencyStatus for All Participants in a Loop**"
      ]
    },
    {
      "cell_type": "markdown",
      "metadata": {
        "id": "GYlZZjWNtrPX"
      },
      "source": [
        "**3.1 Reading**"
      ]
    },
    {
      "cell_type": "code",
      "execution_count": null,
      "metadata": {
        "id": "Bz9E9HdWttb_"
      },
      "outputs": [],
      "source": [
        "n = -1"
      ]
    },
    {
      "cell_type": "code",
      "execution_count": null,
      "metadata": {
        "id": "XoIt4LJ0fEVo"
      },
      "outputs": [],
      "source": [
        "for ID in IDs_reading:\n",
        "  n = n + 1\n",
        "  BG_current = pd.DataFrame(index=range(int(ID_freq_sound[n])),columns=[\"Breath.Group\"])\n",
        "  FS_current = pd.DataFrame(index=range(int(ID_freq_sound[n])),columns=[\"FluencyStatus\"])\n",
        "  subset_FS = df_read_txt_wide[df_read_txt_wide[\"ID\"]==ID]\n",
        "  subset_FS.index = range(len(subset_FS.index))\n",
        "  subset_IT = IntervalTimes[IntervalTimes[\"ID\"] == ID]\n",
        "  subset_IT.index = range(len(subset_IT.index))\n",
        "  subset_sounds = Offsets_all[Offsets_all[\"ID\"] == ID]\n",
        "  subset_sounds.index = range(len(subset_sounds.index))\n",
        "  for j in range(0,len(subset_IT)): # index over range of utterances from participant\n",
        "    for i in range(0,len(subset_sounds)-1): # index over sounds from participant\n",
        "      if subset_sounds[\"Offset\"][i] <= subset_IT[\"Offset\"][j]:\n",
        "        if pd.isna(BG_current[\"Breath.Group\"][i]) == True:\n",
        "          BG_current[\"Breath.Group\"][i] = j+1 # assign number of breath group to corresponding row\n",
        "        if pd.isna(FS_current[\"FluencyStatus\"][i]) == True:\n",
        "          FS_current[\"FluencyStatus\"][i] = subset_FS[\"FluencyStatus\"].iloc[j] # assign number of breath group to corresponding row\n",
        "  BG_col = BG_col.append([BG_current], ignore_index=True)\n",
        "  FS_col = FS_col.append([FS_current], ignore_index=True)"
      ]
    },
    {
      "cell_type": "code",
      "execution_count": null,
      "metadata": {
        "id": "wtbqMXsLhqVJ"
      },
      "outputs": [],
      "source": [
        "read_TextGrid_duration = pd.concat([read_TextGrid_duration, BG_col, FS_col], axis=1)"
      ]
    },
    {
      "cell_type": "code",
      "execution_count": null,
      "metadata": {
        "id": "wxK9-fFKtt1v"
      },
      "outputs": [],
      "source": [
        "read_TextGrid_duration.drop(['Unnamed: 0'], axis=1 , inplace = True)"
      ]
    },
    {
      "cell_type": "code",
      "source": [
        "read_TextGrid_duration"
      ],
      "metadata": {
        "id": "gVn3iFirgGJa"
      },
      "execution_count": null,
      "outputs": []
    },
    {
      "cell_type": "markdown",
      "metadata": {
        "id": "SZQZlSoxt3E4"
      },
      "source": [
        "**3.2 Frog**"
      ]
    },
    {
      "cell_type": "code",
      "execution_count": null,
      "metadata": {
        "id": "l3A1bHNet5Uv"
      },
      "outputs": [],
      "source": [
        "n = -1"
      ]
    },
    {
      "cell_type": "code",
      "execution_count": null,
      "metadata": {
        "id": "jH_Dw2G5t5Qv"
      },
      "outputs": [],
      "source": [
        "for ID in IDs_frog:\n",
        "  n = n + 1\n",
        "  BG_current = pd.DataFrame(index=range(int(ID_freq_sound_frog[n])),columns=[\"Breath.Group\"])\n",
        "  FS_current = pd.DataFrame(index=range(int(ID_freq_sound_frog[n])),columns=[\"FluencyStatus\"])\n",
        "  subset_FS = df_frog_txt_wide[df_frog_txt_wide[\"ID\"]==ID]\n",
        "  subset_FS.index = range(len(subset_FS.index))\n",
        "  subset_IT = IntervalTimesfrog[IntervalTimesfrog[\"ID\"] == ID]\n",
        "  subset_IT.index = range(len(subset_IT.index))\n",
        "  subset_sounds = Offsets_all_frog[Offsets_all_frog[\"ID\"] == ID]\n",
        "  subset_sounds.index = range(len(subset_sounds.index))\n",
        "  for j in range(0,len(subset_IT)): # index over range of utterances from participant\n",
        "    for i in range(0,len(subset_sounds)-1): # index over sounds from participant\n",
        "      if subset_sounds[\"Offset\"][i] <= subset_IT[\"Offset\"][j]:\n",
        "        if pd.isna(BG_current[\"Breath.Group\"][i]) == True:\n",
        "          BG_current[\"Breath.Group\"][i] = j+1 # assign number of breath group to corresponding row\n",
        "        if pd.isna(FS_current[\"FluencyStatus\"][i]) == True:\n",
        "          FS_current[\"FluencyStatus\"][i] = subset_FS[\"FluencyStatus\"].iloc[j] # assign number of breath group to corresponding row\n",
        "  BG_col_frog = BG_col_frog.append([BG_current], ignore_index=True)\n",
        "  FS_col_frog = FS_col_frog.append([FS_current], ignore_index=True)"
      ]
    },
    {
      "cell_type": "code",
      "execution_count": null,
      "metadata": {
        "id": "yrrpZC7It5Mp"
      },
      "outputs": [],
      "source": [
        "frog_TextGrid_duration = pd.concat([frog_TextGrid_duration, BG_col_frog, FS_col_frog], axis=1)"
      ]
    },
    {
      "cell_type": "code",
      "execution_count": null,
      "metadata": {
        "id": "F5jlihatt5HP"
      },
      "outputs": [],
      "source": [
        "frog_TextGrid_duration.drop(['Unnamed: 0'], axis=1 , inplace = True)"
      ]
    },
    {
      "cell_type": "code",
      "execution_count": null,
      "metadata": {
        "id": "tAyrMDEOoaUg"
      },
      "outputs": [],
      "source": [
        "frog_TextGrid_duration"
      ]
    },
    {
      "cell_type": "markdown",
      "metadata": {
        "id": "Ta9INEexuDdx"
      },
      "source": [
        "**4. Count Number of Sounds in a BreathGroup (m)**"
      ]
    },
    {
      "cell_type": "markdown",
      "metadata": {
        "id": "0lo5vi_fuEsh"
      },
      "source": [
        "**4.1 Reading**"
      ]
    },
    {
      "cell_type": "code",
      "execution_count": null,
      "metadata": {
        "id": "anf3CeOZJfRX"
      },
      "outputs": [],
      "source": [
        "# drop silence\n",
        "read_TextGrid_duration = read_TextGrid_duration.drop(read_TextGrid_duration[read_TextGrid_duration.Type == \"silence\"].index)\n",
        "read_TextGrid_duration.index = range(len(read_TextGrid_duration.index))"
      ]
    },
    {
      "cell_type": "code",
      "execution_count": null,
      "metadata": {
        "id": "xziIr8tXuHN4"
      },
      "outputs": [],
      "source": [
        "m_col = pd.DataFrame()  ## initialize group-level dataframe\n",
        "for ID in IDs_reading: ## loop over participnts\n",
        "  m_current_ID = pd.DataFrame()   ## initialize participant-level dataframe\n",
        "  subset_sounds = read_TextGrid_duration[read_TextGrid_duration[\"ID\"] == ID]  # get subset of sound dataframe that corresponds to current participant\n",
        "  subset_sounds.index = range(len(subset_sounds.index)) # reset index\n",
        "  m = subset_sounds[\"Breath.Group\"].value_counts().sort_index() # count how often a certain Breath group occurs for this participant\n",
        "  m.index = range(len(m.index)) # reset index\n",
        "  for a in range (0,len(m)): # go through all breath groups that this participant produced\n",
        "    m_current_BG = pd.DataFrame()  ## initialize BG-level dataframe\n",
        "    m_current_BG = pd.DataFrame(np.repeat(m.iloc[a], m.iloc[a], axis=0)) #replicate the sum sum times\n",
        "    m_current_ID = m_current_ID.append([m_current_BG], ignore_index = True) # add BG-level dataframe to participant-level dataframe\n",
        "  m_col = m_col.append([m_current_ID], ignore_index = True) # add participant-level dataframe to group-level dataframe"
      ]
    },
    {
      "cell_type": "code",
      "execution_count": null,
      "metadata": {
        "id": "CGNTfdjCuHGU"
      },
      "outputs": [],
      "source": [
        "read_TextGrid_duration = read_TextGrid_duration.dropna() # drop NaNs to make it match with m_col"
      ]
    },
    {
      "cell_type": "code",
      "execution_count": null,
      "metadata": {
        "id": "H_omeXanuHAM"
      },
      "outputs": [],
      "source": [
        "read_TextGrid_duration.index = range(len(read_TextGrid_duration.index)) # reset index"
      ]
    },
    {
      "cell_type": "code",
      "execution_count": null,
      "metadata": {
        "id": "ryTdMu7UuG6v"
      },
      "outputs": [],
      "source": [
        "read_TextGrid_duration = pd.concat([read_TextGrid_duration, m_col], axis=1) # concatenate main df with m_col"
      ]
    },
    {
      "cell_type": "code",
      "execution_count": null,
      "metadata": {
        "id": "z0Jv5CUeuG04"
      },
      "outputs": [],
      "source": [
        "read_TextGrid_duration.rename(columns = {0:'m'}, inplace = True) # rename new column"
      ]
    },
    {
      "cell_type": "code",
      "execution_count": null,
      "metadata": {
        "id": "tLtPvYFjuP7y"
      },
      "outputs": [],
      "source": [
        "read_TextGrid_duration"
      ]
    },
    {
      "cell_type": "markdown",
      "metadata": {
        "id": "LQKJDUmjuR_B"
      },
      "source": [
        "**4.2 Frog**"
      ]
    },
    {
      "cell_type": "code",
      "execution_count": null,
      "metadata": {
        "id": "wBBnD4suKCuu"
      },
      "outputs": [],
      "source": [
        "# drop silence\n",
        "frog_TextGrid_duration = frog_TextGrid_duration.drop(frog_TextGrid_duration[frog_TextGrid_duration.Type == \"silence\"].index)\n",
        "frog_TextGrid_duration.index = range(len(frog_TextGrid_duration.index))"
      ]
    },
    {
      "cell_type": "code",
      "execution_count": null,
      "metadata": {
        "id": "3l8buesnuVLB"
      },
      "outputs": [],
      "source": [
        "m_col_frog = pd.DataFrame()  ## initialize group-level dataframe\n",
        "for ID in IDs_frog: ## loop over participnts\n",
        "  m_current_ID = pd.DataFrame()   ## initialize participant-level dataframe\n",
        "  subset_sounds = frog_TextGrid_duration[frog_TextGrid_duration[\"ID\"] == ID]  # get subset of sound dataframe that corresponds to current participant\n",
        "  subset_sounds.index = range(len(subset_sounds.index)) # reset index\n",
        "  m = subset_sounds[\"Breath.Group\"].value_counts().sort_index() # count how often a certain Breath group occurs for this participant\n",
        "  m.index = range(len(m.index)) # reset index\n",
        "  for a in range (0,len(m)): # go through all breath groups that this participant produced\n",
        "    m_current_BG = pd.DataFrame()  ## initialize BG-level dataframe\n",
        "    m_current_BG = pd.DataFrame(np.repeat(m.iloc[a], m.iloc[a], axis=0)) #replicate the sum sum times\n",
        "    m_current_ID = m_current_ID.append([m_current_BG], ignore_index = True) # add BG-level dataframe to participant-level dataframe\n",
        "  m_col_frog = m_col_frog.append([m_current_ID], ignore_index = True) # add participant-level dataframe to group-level dataframe"
      ]
    },
    {
      "cell_type": "code",
      "execution_count": null,
      "metadata": {
        "id": "S-uRITi2uVEL"
      },
      "outputs": [],
      "source": [
        "frog_TextGrid_duration = frog_TextGrid_duration.dropna() # drop NaNs to make it match with m_col"
      ]
    },
    {
      "cell_type": "code",
      "execution_count": null,
      "metadata": {
        "id": "w91TGr4MuU9T"
      },
      "outputs": [],
      "source": [
        "frog_TextGrid_duration.index = range(len(frog_TextGrid_duration.index)) # reset index"
      ]
    },
    {
      "cell_type": "code",
      "execution_count": null,
      "metadata": {
        "id": "bMxttVnSuU2p"
      },
      "outputs": [],
      "source": [
        "frog_TextGrid_duration = pd.concat([frog_TextGrid_duration, m_col_frog], axis=1) # concatenate main df with m_col"
      ]
    },
    {
      "cell_type": "code",
      "execution_count": null,
      "metadata": {
        "id": "hOvkk4uvuUyh"
      },
      "outputs": [],
      "source": [
        "frog_TextGrid_duration.rename(columns = {0:'m'}, inplace = True) # rename new column"
      ]
    },
    {
      "cell_type": "code",
      "execution_count": null,
      "metadata": {
        "id": "GZ79hKzzuUt7"
      },
      "outputs": [],
      "source": [
        "frog_TextGrid_duration"
      ]
    },
    {
      "cell_type": "markdown",
      "metadata": {
        "id": "Zgwh54NVuh4u"
      },
      "source": [
        "**5. Save**"
      ]
    },
    {
      "cell_type": "code",
      "execution_count": null,
      "metadata": {
        "id": "2OmPtysNuUph"
      },
      "outputs": [],
      "source": [
        "%cd /content/gdrive/MyDrive/ATAS_Plus/Duration_Metrics"
      ]
    },
    {
      "cell_type": "code",
      "execution_count": null,
      "metadata": {
        "id": "Wy47c7DBulq5"
      },
      "outputs": [],
      "source": [
        "dir = \"2.BreathGroups_Assigned\"\n",
        "\n",
        "if os.path.exists(dir) == False:\n",
        "  os.mkdir(dir)"
      ]
    },
    {
      "cell_type": "code",
      "execution_count": null,
      "metadata": {
        "id": "IN2FgpgRulkY"
      },
      "outputs": [],
      "source": [
        "%cd /content/gdrive/MyDrive/ATAS_Plus/Duration_Metrics/2.BreathGroups_Assigned/"
      ]
    },
    {
      "cell_type": "code",
      "source": [
        "if len(read_TextGrid_duration) == 0:\n",
        "  read_TextGrid_duration = pd.DataFrame(columns=['ID','Type','Sound','Onset','Offset','Duration','Breath.Group','FluencyStatus','m'])\n",
        "if len(frog_TextGrid_duration) == 0:\n",
        "  frog_TextGrid_duration = pd.DataFrame(columns=['ID','Type','Sound','Onset','Offset','Duration','Breath.Group','FluencyStatus','m'])"
      ],
      "metadata": {
        "id": "Est3tDYB2qSM"
      },
      "execution_count": null,
      "outputs": []
    },
    {
      "cell_type": "code",
      "execution_count": null,
      "metadata": {
        "id": "wn5HOoAtuleI"
      },
      "outputs": [],
      "source": [
        "read_TextGrid_duration.to_excel(\"reading_TextGrid_comb_BG_loop.xlsx\")\n",
        "frog_TextGrid_duration.to_excel(\"frog_TextGrid_comb_BG_loop.xlsx\")"
      ]
    },
    {
      "cell_type": "code",
      "execution_count": null,
      "metadata": {
        "id": "1XrHcpJquqtA"
      },
      "outputs": [],
      "source": [
        "%cd /content/gdrive/MyDrive/ATAS_Plus/Duration_Metrics"
      ]
    },
    {
      "cell_type": "code",
      "execution_count": null,
      "metadata": {
        "id": "6vKz3Cv0R-JP"
      },
      "outputs": [],
      "source": []
    }
  ],
  "metadata": {
    "colab": {
      "provenance": [],
      "authorship_tag": "ABX9TyMxKqYYu+hlaZRTcbZyDJRB",
      "include_colab_link": true
    },
    "kernelspec": {
      "display_name": "Python 3",
      "name": "python3"
    },
    "language_info": {
      "name": "python"
    }
  },
  "nbformat": 4,
  "nbformat_minor": 0
}