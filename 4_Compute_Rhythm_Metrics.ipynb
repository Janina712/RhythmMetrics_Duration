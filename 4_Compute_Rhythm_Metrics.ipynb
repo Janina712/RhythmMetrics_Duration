{
  "cells": [
    {
      "cell_type": "markdown",
      "metadata": {
        "id": "view-in-github",
        "colab_type": "text"
      },
      "source": [
        "<a href=\"https://colab.research.google.com/github/Janina712/RhythmMetrics_Duration/blob/main/4_Compute_Rhythm_Metrics.ipynb\" target=\"_parent\"><img src=\"https://colab.research.google.com/assets/colab-badge.svg\" alt=\"Open In Colab\"/></a>"
      ]
    },
    {
      "cell_type": "markdown",
      "metadata": {
        "id": "EyXtRVnTHUAx"
      },
      "source": [
        "**0. Imports & Set-Up**"
      ]
    },
    {
      "cell_type": "code",
      "execution_count": null,
      "metadata": {
        "id": "Y1P7vDR8HTEI"
      },
      "outputs": [],
      "source": [
        "import pandas as pd\n",
        "import numpy as np\n",
        "import os\n",
        "import plotly.graph_objects as go\n",
        "import seaborn as sns\n",
        "import matplotlib.pyplot as plt\n",
        "import warnings\n",
        "warnings.filterwarnings('ignore')"
      ]
    },
    {
      "cell_type": "code",
      "execution_count": null,
      "metadata": {
        "colab": {
          "base_uri": "https://localhost:8080/"
        },
        "id": "e6w_SV2zHOY8",
        "outputId": "dcd488f8-16db-4d9c-e460-7514ffe7a813"
      },
      "outputs": [
        {
          "output_type": "stream",
          "name": "stdout",
          "text": [
            "Drive already mounted at /content/gdrive; to attempt to forcibly remount, call drive.mount(\"/content/gdrive\", force_remount=True).\n"
          ]
        }
      ],
      "source": [
        "from google.colab import drive\n",
        "drive.mount(\"/content/gdrive\")"
      ]
    },
    {
      "cell_type": "code",
      "source": [
        "pws_IDs_frog = ['24fa']\n",
        "control_IDs_frog = []\n",
        "pws_IDs_reading = ['24fa']\n",
        "control_IDs_reading = []"
      ],
      "metadata": {
        "id": "3nDK3FuvFB6X"
      },
      "execution_count": null,
      "outputs": []
    },
    {
      "cell_type": "code",
      "execution_count": null,
      "metadata": {
        "colab": {
          "base_uri": "https://localhost:8080/"
        },
        "id": "mtr-8CPYHd9z",
        "outputId": "95bb4d92-1954-4d4d-fa46-34b0f9453609"
      },
      "outputs": [
        {
          "output_type": "stream",
          "name": "stdout",
          "text": [
            "/content/gdrive/MyDrive/ATAS_Plus/Duration_Metrics\n"
          ]
        }
      ],
      "source": [
        "%cd /content/gdrive/MyDrive/ATAS_Plus/Duration_Metrics/"
      ]
    },
    {
      "cell_type": "code",
      "execution_count": null,
      "metadata": {
        "id": "Lt03oefhHpa_"
      },
      "outputs": [],
      "source": [
        "# PWS vs. Control\n",
        "reading_vowels_fluent = pd.read_excel(\"matchedVowels_reading_FLUENT.xlsx\")\n",
        "reading_consonants_fluent = pd.read_excel(\"matchedConsonants_reading_FLUENT.xlsx\")\n",
        "frog_vowels_fluent = pd.read_excel(\"matchedVowels_frog_FLUENT.xlsx\")\n",
        "frog_consonants_fluent = pd.read_excel(\"matchedConsonants_frog_FLUENT.xlsx\")"
      ]
    },
    {
      "cell_type": "code",
      "execution_count": null,
      "metadata": {
        "colab": {
          "base_uri": "https://localhost:8080/"
        },
        "id": "BbreAm7XI5Bg",
        "outputId": "b28dd7a0-6b68-4be8-ed62-5d445463ec69"
      },
      "outputs": [
        {
          "output_type": "stream",
          "name": "stdout",
          "text": [
            "/content/gdrive/MyDrive/ATAS_Plus/Duration_Metrics\n",
            "/content/gdrive/MyDrive/ATAS_Plus/Duration_Metrics/4.MetricsResults\n"
          ]
        }
      ],
      "source": [
        "#set up result path to save along the way\n",
        "%cd /content/gdrive/MyDrive/ATAS_Plus/Duration_Metrics\n",
        "\n",
        "dir = \"4.MetricsResults\"\n",
        "if os.path.exists(dir) == False:\n",
        "  os.mkdir(dir)\n",
        "\n",
        "%cd /content/gdrive/MyDrive/ATAS_Plus/Duration_Metrics/4.MetricsResults/"
      ]
    },
    {
      "cell_type": "markdown",
      "metadata": {
        "id": "4_a7gYGyJnhl"
      },
      "source": [
        "# **Define Functions**"
      ]
    },
    {
      "cell_type": "code",
      "execution_count": null,
      "metadata": {
        "id": "mvol7q6kJYdu"
      },
      "outputs": [],
      "source": [
        "def split_groups(df):\n",
        "  pws = df[df[\"Group\"] == \"PWS\"]  # get subset of sound dataframe that corresponds to current participant\n",
        "  pws.index = range(len(pws.index)) # reset index\n",
        "  pws.drop(['Unnamed: 0'], axis=1 , inplace = True)\n",
        "\n",
        "  control = df[df[\"Group\"] == \"Control\"]  # get subset of sound dataframe that corresponds to current participant\n",
        "  control.index = range(len(control.index)) # reset index\n",
        "  control.drop(['Unnamed: 0'], axis=1 , inplace = True)\n",
        "  return(pws, control)"
      ]
    },
    {
      "cell_type": "code",
      "execution_count": null,
      "metadata": {
        "id": "zqdeKTztJZIE"
      },
      "outputs": [],
      "source": [
        "def split_fluency(df):\n",
        "\n",
        "  for i in range(0,len(df)):\n",
        "    df[\"FluencyStatus\"][i] = df[\"FluencyStatus\"][i].lower().strip()\n",
        "\n",
        "  fluent = df[df[\"FluencyStatus\"] == \"fluent\"]  # get subset of sound dataframe that corresponds to current participant\n",
        "  fluent.index = range(len(fluent.index)) # reset index\n",
        "  fluent.drop(['Unnamed: 0'], axis=1 , inplace = True)\n",
        "\n",
        "  disfluent = df[df[\"FluencyStatus\"] == \"disfluent\"]  # get subset of sound dataframe that corresponds to current participant\n",
        "  disfluent.index = range(len(disfluent.index)) # reset index\n",
        "  disfluent.drop(['Unnamed: 0'], axis=1 , inplace = True)\n",
        "  return(fluent, disfluent)"
      ]
    },
    {
      "cell_type": "code",
      "execution_count": null,
      "metadata": {
        "id": "qDqTG4wZJb5m"
      },
      "outputs": [],
      "source": [
        "def computenPVI(df_vowels):\n",
        "  participant = []                                                                                                                                                ## group  -\n",
        "  for p in df_vowels[\"ID\"].unique():                                                                                                                              ## participant  --\n",
        "      subset_ID = df_vowels[df_vowels[\"ID\"] == p]  # get subset of sound dataframe that corresponds to current participant\n",
        "      subset_ID.index = range(len(subset_ID.index)) # reset index\n",
        "      breath_group = []\n",
        "      for BG in subset_ID[\"Breath.Group\"].unique():                                                                                                               ## Breath Group  ---\n",
        "        subset_BG = subset_ID[subset_ID[\"Breath.Group\"] == BG]\n",
        "        subset_BG.index = range(len(subset_BG.index))\n",
        "        sum = 0\n",
        "        for m in range(1, len(subset_BG)):                                                                                                                        ## vowel            ----\n",
        "          subsum = (subset_BG[\"Duration\"][m-1] - subset_BG[\"Duration\"][m])/((subset_BG[\"Duration\"][m-1] + subset_BG[\"Duration\"][m])/2)\n",
        "          sum = sum + abs(subsum)                                                                                                                                 ## vowel            ----\n",
        "        if len(subset_BG) < 2:                                                                                                                                    ## Breath Group    ---\n",
        "          continue\n",
        "        else:\n",
        "          BG_nPVI = 100 * (sum/(len(subset_BG)-1))\n",
        "          breath_group.append(BG_nPVI)\n",
        "      participant.append(breath_group)                                                                                                                            ## participant  --                                                                                                                                    ## group   -\n",
        "  participant = pd.DataFrame(participant)\n",
        "  group = []\n",
        "  for k in range(0, len(participant)):\n",
        "    participant_avg = participant.iloc[k].mean()\n",
        "    group.append(participant_avg)\n",
        "  group = pd.DataFrame(group, columns = [\"nPVI\"])\n",
        "  return(group)"
      ]
    },
    {
      "cell_type": "code",
      "execution_count": null,
      "metadata": {
        "id": "JQVcKWiPJbw_"
      },
      "outputs": [],
      "source": [
        "def computerPVI(df_consonants):\n",
        "  participant = []                                                                                                                                                ## group  -\n",
        "  for p in df_consonants[\"ID\"].unique():                                                                                                                              ## participant  --\n",
        "      subset_ID = df_consonants[df_consonants[\"ID\"] == p]  # get subset of sound dataframe that corresponds to current participant\n",
        "      subset_ID.index = range(len(subset_ID.index)) # reset index\n",
        "      breath_group = []\n",
        "      for BG in subset_ID[\"Breath.Group\"].unique():                                                                                                               ## Breath Group  ---\n",
        "        subset_BG = subset_ID[subset_ID[\"Breath.Group\"] == BG]\n",
        "        subset_BG.index = range(len(subset_BG.index))\n",
        "        sum = 0\n",
        "        for m in range(1, len(subset_BG)):                                                                                                                        ## vowel            ----\n",
        "          subsum = subset_BG[\"Duration\"][m-1] - subset_BG[\"Duration\"][m]\n",
        "          sum = sum + abs(subsum)                                                                                                                                 ## vowel            ----\n",
        "        if len(subset_BG) < 2:                                                                                                                                    ## Breath Group    ---\n",
        "          continue\n",
        "        else:\n",
        "          BG_rPVI = sum/(len(subset_BG)-1)\n",
        "          breath_group.append(BG_rPVI)\n",
        "      participant.append(breath_group)                                                                                                                            ## participant  --                                                                                                                                    ## group   -\n",
        "  participant = pd.DataFrame(participant)\n",
        "  group = []\n",
        "  for k in range(0, len(participant)):\n",
        "    participant_avg = participant.iloc[k].mean()\n",
        "    group.append(participant_avg)\n",
        "  group = pd.DataFrame(group, columns = [\"rPVI\"])\n",
        "  return(group)"
      ]
    },
    {
      "cell_type": "code",
      "execution_count": null,
      "metadata": {
        "id": "GjFfrBrTJbpe"
      },
      "outputs": [],
      "source": [
        "def computePercV(df_vowels, df_consonants):\n",
        "  participant = []\n",
        "  for p in df_vowels[\"ID\"].unique():\n",
        "      subset_ID = df_vowels[df_vowels[\"ID\"] == p]  # get subset of sound dataframe that corresponds to current participant\n",
        "      subset_ID.index = range(len(subset_ID.index)) # reset index\n",
        "      numberBG = len(subset_ID[\"Breath.Group\"].unique())\n",
        "      subset_cons = df_consonants[df_consonants[\"ID\"] == p]\n",
        "      subset_cons.index = range(len(subset_cons.index))\n",
        "      Vsums = np.zeros(numberBG)\n",
        "      Csums = np.zeros(numberBG)\n",
        "      count_v = 0\n",
        "      for i in subset_ID[\"Breath.Group\"].unique():\n",
        "        count_v = count_v+1\n",
        "        for j in range(0, len(subset_ID)):\n",
        "          if subset_ID[\"Breath.Group\"][j] == i:\n",
        "            Vsums[count_v-1] = Vsums[count_v-1] + subset_ID[\"Duration\"][j]\n",
        "      count_c = 0\n",
        "      for i in subset_ID[\"Breath.Group\"].unique():\n",
        "        count_c = count_c+1\n",
        "        for j in range(0, len(subset_cons)):\n",
        "          if subset_cons[\"Breath.Group\"][j] == i:\n",
        "            Csums[count_c-1] = Csums[count_c-1] + subset_cons[\"Duration\"][j]\n",
        "      VCsums = Vsums.mean() + Csums.mean()                                                         ## no mean??\n",
        "      percV = Vsums.mean()/VCsums\n",
        "      percV = percV[~np.isnan(percV)]\n",
        "      percV_avg = percV.mean()\n",
        "      participant.append([percV_avg])\n",
        "  participant = pd.DataFrame (participant, columns = ['%V'])\n",
        "  return(participant)"
      ]
    },
    {
      "cell_type": "code",
      "execution_count": null,
      "metadata": {
        "id": "KZlBxt1oJrX_"
      },
      "outputs": [],
      "source": [
        "def computeDeltaC(df_consonants):\n",
        "  participant = []\n",
        "  for p in df_consonants[\"ID\"].unique():\n",
        "    subset_ID = df_consonants[df_consonants[\"ID\"] == p]  # get subset of sound dataframe that corresponds to current participant\n",
        "    subset_ID.index = range(len(subset_ID.index)) # reset index\n",
        "    numberBG = len(subset_ID[\"Breath.Group\"].unique())\n",
        "    grouped_cons = subset_ID.groupby(\"Breath.Group\")\n",
        "    grouped_lists = grouped_cons[\"Duration\"].apply(list)\n",
        "    grouped_lists = grouped_lists.reset_index()\n",
        "    deltaC = np.zeros(len(grouped_lists))\n",
        "    for i in range(0,len(grouped_lists)):\n",
        "      deltaC[i] = np.std(grouped_lists[\"Duration\"][i])\n",
        "    deltaC_avg = deltaC.mean()\n",
        "    participant.append([deltaC_avg])\n",
        "  participant = pd.DataFrame (participant, columns = ['DeltaC'])\n",
        "  return(participant)"
      ]
    },
    {
      "cell_type": "code",
      "execution_count": null,
      "metadata": {
        "id": "B51JAmlgJrPO"
      },
      "outputs": [],
      "source": [
        "def computeDeltaV(df_vowels):\n",
        "    participant = []\n",
        "    for p in df_vowels[\"ID\"].unique():\n",
        "      subset_ID = df_vowels[df_vowels[\"ID\"] == p]  # get subset of sound dataframe that corresponds to current participant\n",
        "      subset_ID.index = range(len(subset_ID.index)) # reset index\n",
        "      numberBG = len(subset_ID[\"Breath.Group\"].unique())\n",
        "      grouped_vowels = subset_ID.groupby(\"Breath.Group\")\n",
        "      grouped_lists = grouped_vowels[\"Duration\"].apply(list)\n",
        "      grouped_lists = grouped_lists.reset_index()\n",
        "      deltaV = np.zeros(len(grouped_lists))\n",
        "      for i in range(0,len(grouped_lists)):\n",
        "        deltaV[i] = np.std(grouped_lists[\"Duration\"][i])\n",
        "      deltaV_avg = deltaV.mean()\n",
        "      participant.append([deltaV_avg])\n",
        "    participant = pd.DataFrame (participant, columns = ['DeltaV'])\n",
        "    return(participant)"
      ]
    },
    {
      "cell_type": "code",
      "execution_count": null,
      "metadata": {
        "id": "32WbkfuYJrGz"
      },
      "outputs": [],
      "source": [
        "def computeVarcoC(df_consonants, deltaC):\n",
        "    n = -1\n",
        "    participant = []\n",
        "    for p in df_consonants[\"ID\"].unique():\n",
        "      n = n +1\n",
        "      subset_ID = df_consonants[df_consonants[\"ID\"] == p]  # get subset of sound dataframe that corresponds to current participant\n",
        "      subset_ID.index = range(len(subset_ID.index)) # reset\n",
        "      numberBG = len(subset_ID[\"Breath.Group\"].unique())\n",
        "      grouped_consonants = subset_ID.groupby(\"Breath.Group\")\n",
        "      grouped_lists = grouped_consonants[\"Duration\"].apply(list)\n",
        "      grouped_lists = grouped_lists.reset_index()\n",
        "      Cavg = np.zeros(len(grouped_lists))\n",
        "      for i in range(0,len(grouped_lists)):\n",
        "        Cavg[i] = np.mean(grouped_lists[\"Duration\"][i])\n",
        "      VarcoC = deltaC[\"DeltaC\"][n]/Cavg\n",
        "      VarcoC_avg = VarcoC.mean()\n",
        "      participant.append([VarcoC_avg])\n",
        "    participant = pd.DataFrame (participant, columns = ['VarcoC'])\n",
        "    return(participant)"
      ]
    },
    {
      "cell_type": "code",
      "execution_count": null,
      "metadata": {
        "id": "aHZbYHICJy_B"
      },
      "outputs": [],
      "source": [
        "def computeVarcoV(df_vowels, deltaV):\n",
        "    n = -1\n",
        "    participant = []\n",
        "    for p in df_vowels[\"ID\"].unique():\n",
        "      n = n +1\n",
        "      subset_ID = df_vowels[df_vowels[\"ID\"] == p]  # get subset of sound dataframe that corresponds to current participant\n",
        "      subset_ID.index = range(len(subset_ID.index)) # reset index\n",
        "      numberBG = len(subset_ID[\"Breath.Group\"].unique())\n",
        "      grouped_vowels = subset_ID.groupby(\"Breath.Group\")\n",
        "      grouped_lists = grouped_vowels[\"Duration\"].apply(list)\n",
        "      grouped_lists = grouped_lists.reset_index()\n",
        "      Vavg = np.zeros(len(grouped_lists))\n",
        "      for i in range(0,len(grouped_lists)):\n",
        "        Vavg[i] = np.mean(grouped_lists[\"Duration\"][i])\n",
        "      VarcoV = deltaV[\"DeltaV\"][n]/Vavg\n",
        "      VarcoV_avg = VarcoV.mean()\n",
        "      participant.append([VarcoV_avg])\n",
        "    participant = pd.DataFrame (participant, columns = ['VarcoV'])\n",
        "    return(participant)"
      ]
    },
    {
      "cell_type": "markdown",
      "metadata": {
        "id": "NHH53EXrNnPd"
      },
      "source": [
        "# **I. PWS vs. Control Participants**\n"
      ]
    },
    {
      "cell_type": "markdown",
      "metadata": {
        "id": "NkYc6Fe6N0I7"
      },
      "source": [
        "**1. Calculate Rhythm Metrics**"
      ]
    },
    {
      "cell_type": "code",
      "execution_count": null,
      "metadata": {
        "id": "NoAr3DF4N3mS"
      },
      "outputs": [],
      "source": [
        "reading_vowels_fluent_pws, reading_vowels_fluent_control = split_groups(reading_vowels_fluent)\n",
        "reading_consonants_fluent_pws, reading_consonants_fluent_control = split_groups(reading_consonants_fluent)\n",
        "frog_vowels_fluent_pws, frog_vowels_fluent_control = split_groups(frog_vowels_fluent)\n",
        "frog_consonants_fluent_pws, frog_consonants_fluent_control = split_groups(frog_consonants_fluent)"
      ]
    },
    {
      "cell_type": "code",
      "execution_count": null,
      "metadata": {
        "id": "TPZR5QjSOB39"
      },
      "outputs": [],
      "source": [
        "nPVI_reading_fluent_pws = computenPVI(reading_vowels_fluent_pws)\n",
        "nPVI_reading_fluent_control = computenPVI(reading_vowels_fluent_control)\n",
        "nPVI_frog_fluent_pws = computenPVI(frog_vowels_fluent_pws)\n",
        "nPVI_frog_fluent_control = computenPVI(frog_vowels_fluent_control)"
      ]
    },
    {
      "cell_type": "code",
      "execution_count": null,
      "metadata": {
        "id": "z1WsnlHdOB0i"
      },
      "outputs": [],
      "source": [
        "rPVI_reading_fluent_pws = computerPVI(reading_consonants_fluent_pws)\n",
        "rPVI_reading_fluent_control = computerPVI(reading_consonants_fluent_control)\n",
        "rPVI_frog_fluent_pws = computerPVI(frog_consonants_fluent_pws)\n",
        "rPVI_frog_fluent_control = computerPVI(frog_consonants_fluent_control)"
      ]
    },
    {
      "cell_type": "code",
      "execution_count": null,
      "metadata": {
        "id": "rILL6gqVOBx2"
      },
      "outputs": [],
      "source": [
        "percV_reading_fluent_pws = computePercV(reading_vowels_fluent_pws, reading_consonants_fluent_pws)\n",
        "percV_frog_fluent_pws = computePercV(frog_vowels_fluent_pws, frog_consonants_fluent_pws)\n",
        "percV_reading_fluent_control = computePercV(reading_vowels_fluent_control, reading_consonants_fluent_control)\n",
        "percV_frog_fluent_control = computePercV(frog_vowels_fluent_control, frog_consonants_fluent_control)"
      ]
    },
    {
      "cell_type": "code",
      "execution_count": null,
      "metadata": {
        "id": "HMmXUvg1OBu_"
      },
      "outputs": [],
      "source": [
        "deltaC_reading_fluent_pws = computeDeltaC(reading_consonants_fluent_pws)\n",
        "deltaC_frog_fluent_pws = computeDeltaC(frog_consonants_fluent_pws)\n",
        "deltaC_reading_fluent_control = computeDeltaC(reading_consonants_fluent_control)\n",
        "deltaC_frog_fluent_control = computeDeltaC(frog_consonants_fluent_control)"
      ]
    },
    {
      "cell_type": "code",
      "execution_count": null,
      "metadata": {
        "id": "MxncL-SPOLmS"
      },
      "outputs": [],
      "source": [
        "deltaV_reading_fluent_pws = computeDeltaV(reading_vowels_fluent_pws)\n",
        "deltaV_frog_fluent_pws = computeDeltaV(frog_vowels_fluent_pws)\n",
        "deltaV_reading_fluent_control = computeDeltaV(reading_vowels_fluent_control)\n",
        "deltaV_frog_fluent_control = computeDeltaV(frog_vowels_fluent_control)"
      ]
    },
    {
      "cell_type": "code",
      "execution_count": null,
      "metadata": {
        "id": "cQvh6cgrOLfC"
      },
      "outputs": [],
      "source": [
        "varcoC_reading_fluent_pws = computeVarcoC(reading_consonants_fluent_pws, deltaC_reading_fluent_pws)\n",
        "varcoC_frog_fluent_pws = computeVarcoC(frog_consonants_fluent_pws, deltaC_frog_fluent_pws)\n",
        "varcoC_reading_fluent_control = computeVarcoC(reading_consonants_fluent_control, deltaC_reading_fluent_control)\n",
        "varcoC_frog_fluent_control = computeVarcoC(frog_consonants_fluent_control, deltaC_frog_fluent_control)"
      ]
    },
    {
      "cell_type": "code",
      "execution_count": null,
      "metadata": {
        "id": "y7aN8TsjOLYB"
      },
      "outputs": [],
      "source": [
        "varcoV_reading_fluent_pws = computeVarcoV(reading_vowels_fluent_pws, deltaV_reading_fluent_pws)\n",
        "varcoV_frog_fluent_pws = computeVarcoV(frog_vowels_fluent_pws, deltaV_frog_fluent_pws)\n",
        "varcoV_reading_fluent_control = computeVarcoV(reading_vowels_fluent_control, deltaV_reading_fluent_control)\n",
        "varcoV_frog_fluent_control = computeVarcoV(frog_vowels_fluent_control, deltaV_frog_fluent_control)"
      ]
    },
    {
      "cell_type": "markdown",
      "metadata": {
        "id": "SkEH9HlTPeJ7"
      },
      "source": [
        "**2. Assign Results to DataFrame**"
      ]
    },
    {
      "cell_type": "code",
      "execution_count": null,
      "metadata": {
        "id": "XGlCHTijPi8y"
      },
      "outputs": [],
      "source": [
        "# create result dataframes\n",
        "result_reading_fluent_pws = pd.DataFrame(columns = [\"ID\",\"nPVI\", \"rPVI\",\"%V\",\"DeltaC\", \"DeltaV\", \"VarcoC\", \"VarcoV\"])\n",
        "result_frog_fluent_pws = pd.DataFrame(columns = [\"ID\",\"nPVI\", \"rPVI\",\"%V\",\"DeltaC\", \"DeltaV\", \"VarcoC\", \"VarcoV\"])\n",
        "result_reading_fluent_control = pd.DataFrame(columns = [\"ID\",\"nPVI\",\"rPVI\",\"%V\",\"DeltaC\", \"DeltaV\", \"VarcoC\", \"VarcoV\"])\n",
        "result_frog_fluent_control = pd.DataFrame(columns = [\"ID\",\"nPVI\",\"rPVI\",\"%V\",\"DeltaC\", \"DeltaV\", \"VarcoC\", \"VarcoV\"])"
      ]
    },
    {
      "cell_type": "code",
      "execution_count": null,
      "metadata": {
        "id": "KFAlsHnqPi0Y"
      },
      "outputs": [],
      "source": [
        "result_reading_fluent_pws[\"ID\"] = pws_IDs_reading\n",
        "result_reading_fluent_pws[\"nPVI\"] = nPVI_reading_fluent_pws\n",
        "result_reading_fluent_pws[\"rPVI\"] = rPVI_reading_fluent_pws\n",
        "result_reading_fluent_pws[\"%V\"] = percV_reading_fluent_pws*100\n",
        "result_reading_fluent_pws[\"DeltaC\"] = deltaC_reading_fluent_pws\n",
        "result_reading_fluent_pws[\"DeltaV\"] = deltaV_reading_fluent_pws\n",
        "result_reading_fluent_pws[\"VarcoC\"] = varcoC_reading_fluent_pws*100\n",
        "result_reading_fluent_pws[\"VarcoV\"] = varcoV_reading_fluent_pws*100"
      ]
    },
    {
      "cell_type": "code",
      "execution_count": null,
      "metadata": {
        "id": "Ce_HeCkoPirB"
      },
      "outputs": [],
      "source": [
        "result_reading_fluent_control[\"ID\"] = control_IDs_reading\n",
        "result_reading_fluent_control[\"nPVI\"] = nPVI_reading_fluent_control\n",
        "result_reading_fluent_control[\"rPVI\"] = rPVI_reading_fluent_control\n",
        "result_reading_fluent_control[\"%V\"] = percV_reading_fluent_control*100\n",
        "result_reading_fluent_control[\"DeltaC\"] = deltaC_reading_fluent_control\n",
        "result_reading_fluent_control[\"DeltaV\"] = deltaV_reading_fluent_control\n",
        "result_reading_fluent_control[\"VarcoC\"] = varcoC_reading_fluent_control*100\n",
        "result_reading_fluent_control[\"VarcoV\"] = varcoV_reading_fluent_control*100"
      ]
    },
    {
      "cell_type": "code",
      "execution_count": null,
      "metadata": {
        "id": "aP-s2fNcPiSk"
      },
      "outputs": [],
      "source": [
        "result_frog_fluent_pws[\"ID\"] = pws_IDs_frog\n",
        "result_frog_fluent_pws[\"nPVI\"] = nPVI_frog_fluent_pws\n",
        "result_frog_fluent_pws[\"rPVI\"] = rPVI_frog_fluent_pws\n",
        "result_frog_fluent_pws[\"%V\"] = percV_frog_fluent_pws*100\n",
        "result_frog_fluent_pws[\"DeltaC\"] = deltaC_frog_fluent_pws\n",
        "result_frog_fluent_pws[\"DeltaV\"] = deltaV_frog_fluent_pws\n",
        "result_frog_fluent_pws[\"VarcoC\"] = varcoC_frog_fluent_pws*100\n",
        "result_frog_fluent_pws[\"VarcoV\"] = varcoV_frog_fluent_pws*100"
      ]
    },
    {
      "cell_type": "code",
      "execution_count": null,
      "metadata": {
        "id": "QKDv7xcVPxuP"
      },
      "outputs": [],
      "source": [
        "result_frog_fluent_control[\"ID\"] = control_IDs_frog\n",
        "result_frog_fluent_control[\"nPVI\"] = nPVI_frog_fluent_control\n",
        "result_frog_fluent_control[\"rPVI\"] = rPVI_frog_fluent_control\n",
        "result_frog_fluent_control[\"%V\"] = percV_frog_fluent_control*100\n",
        "result_frog_fluent_control[\"DeltaC\"] = deltaC_frog_fluent_control\n",
        "result_frog_fluent_control[\"DeltaV\"] = deltaV_frog_fluent_control\n",
        "result_frog_fluent_control[\"VarcoC\"] = varcoC_frog_fluent_control*100\n",
        "result_frog_fluent_control[\"VarcoV\"] = varcoV_frog_fluent_control*100"
      ]
    },
    {
      "cell_type": "markdown",
      "source": [
        "**3. Plot Rhythm Metrics for Frog**"
      ],
      "metadata": {
        "id": "i1odUf7RI7j9"
      }
    },
    {
      "cell_type": "code",
      "source": [
        "result_frog_fluent_pws[\"Group\"] = \"PWS\"\n",
        "result_frog_fluent_control[\"Group\"] = \"Control\""
      ],
      "metadata": {
        "id": "6YPej8acJDyA"
      },
      "execution_count": null,
      "outputs": []
    },
    {
      "cell_type": "code",
      "source": [
        "plot_fluent_frog = result_frog_fluent_pws.append(result_frog_fluent_control)\n",
        "plot_fluent_frog[\"Condition\"] = \"frog\""
      ],
      "metadata": {
        "id": "ki7amG2JJDut"
      },
      "execution_count": null,
      "outputs": []
    },
    {
      "cell_type": "code",
      "source": [
        "p_fluent = plot_fluent_frog.append(plot_fluent_frog)"
      ],
      "metadata": {
        "id": "Aw1iKUvZJDr_"
      },
      "execution_count": null,
      "outputs": []
    },
    {
      "cell_type": "code",
      "source": [
        "metrics = ['nPVI','rPVI','%V','DeltaC','DeltaV','VarcoC','VarcoV']"
      ],
      "metadata": {
        "id": "gn7eh5EJJDpB"
      },
      "execution_count": null,
      "outputs": []
    },
    {
      "cell_type": "code",
      "source": [
        "for metric in metrics:\n",
        "  sns.set_style(\"white\")\n",
        "  g = sns.catplot(x = \"Condition\", y= metric,\n",
        "                  hue=\"Group\",\n",
        "                  data=p_fluent, kind=\"box\",\n",
        "                  height=4, aspect=.7);\n",
        "  g.fig.subplots_adjust(top=0.8)\n",
        "  g.fig.suptitle(\"Rhythmicity of Fluent Speech\", fontsize=16, weight = \"bold\");\n",
        "\n",
        "  new_labels = ['CWS', 'CWNS']\n",
        "  for t, l in zip(g._legend.texts, new_labels):\n",
        "      t.set_text(l)"
      ],
      "metadata": {
        "id": "0bxGQTbYJOJ8"
      },
      "execution_count": null,
      "outputs": []
    },
    {
      "cell_type": "markdown",
      "metadata": {
        "id": "fP0xIOSRQVtK"
      },
      "source": [
        "**4. Plot Rhythm Metrics for Reading and Frog**"
      ]
    },
    {
      "cell_type": "code",
      "execution_count": null,
      "metadata": {
        "id": "GDUVvxYJQZhl"
      },
      "outputs": [],
      "source": [
        "result_reading_fluent_pws[\"Group\"] = \"PWS\"\n",
        "result_reading_fluent_control[\"Group\"] = \"Control\"\n",
        "result_frog_fluent_pws[\"Group\"] = \"PWS\"\n",
        "result_frog_fluent_control[\"Group\"] = \"Control\""
      ]
    },
    {
      "cell_type": "code",
      "execution_count": null,
      "metadata": {
        "id": "w_mGjm3eQZXL"
      },
      "outputs": [],
      "source": [
        "plot_fluent_reading = result_reading_fluent_pws.append(result_reading_fluent_control)\n",
        "plot_fluent_reading[\"Condition\"] = \"reading\""
      ]
    },
    {
      "cell_type": "code",
      "execution_count": null,
      "metadata": {
        "id": "4OefEUR9QZKo"
      },
      "outputs": [],
      "source": [
        "plot_fluent_frog = result_frog_fluent_pws.append(result_frog_fluent_control)\n",
        "plot_fluent_frog[\"Condition\"] = \"frog\""
      ]
    },
    {
      "cell_type": "code",
      "execution_count": null,
      "metadata": {
        "id": "vnhGIz1VQZCz"
      },
      "outputs": [],
      "source": [
        "p_fluent = plot_fluent_reading.append(plot_fluent_frog)"
      ]
    },
    {
      "cell_type": "code",
      "source": [
        "my_colors = [\"#FF8000\", \"#009999\"]\n",
        "sns.set_palette(my_colors)"
      ],
      "metadata": {
        "id": "U2C1skXyIyYj"
      },
      "execution_count": null,
      "outputs": []
    },
    {
      "cell_type": "code",
      "source": [
        "metrics = ['nPVI','rPVI','%V','DeltaC','DeltaV','VarcoC','VarcoV']"
      ],
      "metadata": {
        "id": "8ORSwt_eHreg"
      },
      "execution_count": null,
      "outputs": []
    },
    {
      "cell_type": "code",
      "source": [
        "for metric in metrics:\n",
        "  sns.set_style(\"white\")\n",
        "  g = sns.catplot(x = \"Condition\", y= metric,\n",
        "                  hue=\"Group\",\n",
        "                  data=p_fluent, kind=\"box\",\n",
        "                  height=4, aspect=.7);\n",
        "  g.fig.subplots_adjust(top=0.8)\n",
        "  g.fig.suptitle(\"Rhythmicity of Fluent Speech\", fontsize=16, weight = \"bold\");\n",
        "\n",
        "  new_labels = ['CWS', 'CWNS']\n",
        "  for t, l in zip(g._legend.texts, new_labels):\n",
        "      t.set_text(l)"
      ],
      "metadata": {
        "id": "RhUN9zp85jsY"
      },
      "execution_count": null,
      "outputs": []
    },
    {
      "cell_type": "markdown",
      "source": [
        "**5. Save Dataframe**"
      ],
      "metadata": {
        "id": "sLbL-f3rJ39V"
      }
    },
    {
      "cell_type": "code",
      "source": [
        "# PWS vs. Control (fluent utternaces only)\n",
        "result_reading_fluent_pws.to_excel(\"result_reading_fluent_pws.xlsx\")\n",
        "result_reading_fluent_control.to_excel(\"result_reading_fluent_control.xlsx\")\n",
        "result_frog_fluent_pws.to_excel(\"result_frog_fluent_pws.xlsx\")\n",
        "result_frog_fluent_control.to_excel(\"result_frog_fluent_control.xlsx\")"
      ],
      "metadata": {
        "id": "r1oSFzahKDBz"
      },
      "execution_count": null,
      "outputs": []
    },
    {
      "cell_type": "markdown",
      "metadata": {
        "id": "FYRWd1rGR6kY"
      },
      "source": [
        "# **II. Fluent vs. Disfluent Utterances (PWS)**"
      ]
    },
    {
      "cell_type": "markdown",
      "source": [
        "**0. Import**"
      ],
      "metadata": {
        "id": "bGHElrNcKmZM"
      }
    },
    {
      "cell_type": "code",
      "source": [
        "%cd /content/gdrive/MyDrive/ATAS_Plus/Duration_Metrics/3.MLU_Matched/"
      ],
      "metadata": {
        "colab": {
          "base_uri": "https://localhost:8080/"
        },
        "id": "0Ozk-4nn20Ss",
        "outputId": "de6fd37a-649c-451c-b211-07564eb36415"
      },
      "execution_count": null,
      "outputs": [
        {
          "output_type": "stream",
          "name": "stdout",
          "text": [
            "/content/gdrive/MyDrive/ATAS_Plus/Duration_Metrics/3.MLU_Matched\n"
          ]
        }
      ]
    },
    {
      "cell_type": "code",
      "source": [
        "# Fluent vs. Disfluent Utterances (PWS)\n",
        "reading_vowels_pws_fluent = pd.read_excel(\"fluencyMatched_vowels_reading_pws.xlsx\")\n",
        "reading_consonants_pws_fluent = pd.read_excel(\"fluencyMatched_consonants_reading_pws.xlsx\")\n",
        "frog_vowels_pws_fluent = pd.read_excel(\"fluencyMatched_vowels_frog_pws.xlsx\")\n",
        "frog_consonants_pws_fluent = pd.read_excel(\"fluencyMatched_consonants_frog_pws.xlsx\")"
      ],
      "metadata": {
        "id": "Wp2euR6GKhmf"
      },
      "execution_count": null,
      "outputs": []
    },
    {
      "cell_type": "code",
      "source": [
        "#set up result path to save along the way\n",
        "%cd /content/gdrive/MyDrive/ATAS_Plus/Duration_Metrics\n",
        "\n",
        "dir = \"4.MetricsResults\"\n",
        "if os.path.exists(dir) == False:\n",
        "  os.mkdir(dir)\n",
        "\n",
        "%cd /content/gdrive/MyDrive/ATAS_Plus/Duration_Metrics/4.MetricsResults/"
      ],
      "metadata": {
        "id": "97_ZFSP226GR"
      },
      "execution_count": null,
      "outputs": []
    },
    {
      "cell_type": "markdown",
      "metadata": {
        "id": "ubJBekcXSknB"
      },
      "source": [
        "**1. Calculate Rhythm Metrics**"
      ]
    },
    {
      "cell_type": "code",
      "execution_count": null,
      "metadata": {
        "id": "Yo2UJ-O2RzOj"
      },
      "outputs": [],
      "source": [
        "reading_vowels_fluent, reading_vowels_disfluent = split_fluency(reading_vowels_pws_fluent)\n",
        "reading_consonants_fluent, reading_consonants_disfluent = split_fluency(reading_consonants_pws_fluent)\n",
        "frog_vowels_fluent, frog_vowels_disfluent = split_fluency(frog_vowels_pws_fluent)\n",
        "frog_consonants_fluent, frog_consonants_disfluent = split_fluency(frog_consonants_pws_fluent)"
      ]
    },
    {
      "cell_type": "code",
      "execution_count": null,
      "metadata": {
        "id": "1O5wZQIJSvqn"
      },
      "outputs": [],
      "source": [
        "nPVI_reading_fluent = computenPVI(reading_vowels_fluent)\n",
        "nPVI_frog_fluent = computenPVI(frog_vowels_fluent)\n",
        "nPVI_reading_disfluent = computenPVI(reading_vowels_disfluent)\n",
        "nPVI_frog_disfluent = computenPVI(frog_vowels_disfluent)"
      ]
    },
    {
      "cell_type": "code",
      "execution_count": null,
      "metadata": {
        "id": "6Uh2zwK0S1Sg"
      },
      "outputs": [],
      "source": [
        "rPVI_reading_fluent = computerPVI(reading_consonants_fluent)\n",
        "rPVI_frog_fluent = computerPVI(frog_consonants_fluent)\n",
        "rPVI_reading_disfluent = computerPVI(reading_consonants_disfluent)\n",
        "rPVI_frog_disfluent = computerPVI(frog_consonants_disfluent)"
      ]
    },
    {
      "cell_type": "code",
      "execution_count": null,
      "metadata": {
        "id": "PEHIjZJ9S1Cy"
      },
      "outputs": [],
      "source": [
        "percV_reading_fluent = computePercV(reading_vowels_fluent, reading_consonants_fluent)\n",
        "percV_frog_fluent = computePercV(frog_vowels_fluent, frog_consonants_fluent)\n",
        "percV_reading_disfluent = computePercV(reading_vowels_disfluent, reading_consonants_disfluent)\n",
        "percV_frog_disfluent = computePercV(frog_vowels_disfluent, frog_consonants_disfluent)"
      ]
    },
    {
      "cell_type": "code",
      "execution_count": null,
      "metadata": {
        "id": "kk3sKKf-S0yn"
      },
      "outputs": [],
      "source": [
        "deltaC_reading_fluent = computeDeltaC(reading_consonants_fluent)\n",
        "deltaC_frog_fluent = computeDeltaC(frog_consonants_fluent)\n",
        "deltaC_reading_disfluent = computeDeltaC(reading_consonants_disfluent)\n",
        "deltaC_frog_disfluent = computeDeltaC(frog_consonants_disfluent)"
      ]
    },
    {
      "cell_type": "code",
      "execution_count": null,
      "metadata": {
        "id": "qa4CioNmS0k0"
      },
      "outputs": [],
      "source": [
        "deltaV_reading_fluent = computeDeltaV(reading_vowels_fluent)\n",
        "deltaV_frog_fluent = computeDeltaV(frog_vowels_fluent)\n",
        "deltaV_reading_disfluent = computeDeltaV(reading_vowels_disfluent)\n",
        "deltaV_frog_disfluent = computeDeltaV(frog_vowels_disfluent)"
      ]
    },
    {
      "cell_type": "code",
      "execution_count": null,
      "metadata": {
        "id": "fB84XbxhTCBt"
      },
      "outputs": [],
      "source": [
        "varcoC_reading_fluent = computeVarcoC(reading_consonants_fluent, deltaC_reading_fluent)\n",
        "varcoC_frog_fluent = computeVarcoC(frog_consonants_fluent, deltaC_frog_fluent)\n",
        "varcoC_reading_disfluent = computeVarcoC(reading_consonants_disfluent, deltaC_reading_disfluent)\n",
        "varcoC_frog_disfluent = computeVarcoC(frog_consonants_disfluent, deltaC_frog_disfluent)"
      ]
    },
    {
      "cell_type": "code",
      "execution_count": null,
      "metadata": {
        "id": "MbOUCX_XTB54"
      },
      "outputs": [],
      "source": [
        "varcoV_reading_fluent = computeVarcoV(reading_vowels_fluent, deltaV_reading_fluent)\n",
        "varcoV_frog_fluent = computeVarcoV(frog_vowels_fluent, deltaV_frog_fluent)\n",
        "varcoV_reading_disfluent = computeVarcoV(reading_vowels_disfluent, deltaV_reading_disfluent)\n",
        "varcoV_frog_disfluent = computeVarcoV(frog_vowels_disfluent, deltaV_frog_disfluent)"
      ]
    },
    {
      "cell_type": "markdown",
      "metadata": {
        "id": "EB2Z0v0GTIoX"
      },
      "source": [
        "**2. Assign Results to Rhythm Metrics**"
      ]
    },
    {
      "cell_type": "code",
      "execution_count": null,
      "metadata": {
        "id": "asvxsThoTpMl"
      },
      "outputs": [],
      "source": [
        "# create result dataframes\n",
        "result_reading_fluent = pd.DataFrame(columns = [\"ID\",\"nPVI\", \"rPVI\",\"%V\",\"DeltaC\", \"DeltaV\", \"VarcoC\", \"VarcoV\"])\n",
        "result_frog_fluent = pd.DataFrame(columns = [\"ID\",\"nPVI\", \"rPVI\",\"%V\",\"DeltaC\", \"DeltaV\", \"VarcoC\", \"VarcoV\"])\n",
        "result_reading_disfluent = pd.DataFrame(columns = [\"ID\",\"nPVI\", \"rPVI\",\"%V\",\"DeltaC\", \"DeltaV\", \"VarcoC\", \"VarcoV\"])\n",
        "result_frog_disfluent = pd.DataFrame(columns = [\"ID\",\"nPVI\", \"rPVI\",\"%V\",\"DeltaC\", \"DeltaV\", \"VarcoC\", \"VarcoV\"])"
      ]
    },
    {
      "cell_type": "code",
      "execution_count": null,
      "metadata": {
        "id": "3GhOJOD-TBx1"
      },
      "outputs": [],
      "source": [
        "result_reading_fluent[\"ID\"] = pws_IDs\n",
        "result_reading_fluent[\"nPVI\"] = nPVI_reading_fluent\n",
        "result_reading_fluent[\"rPVI\"] = rPVI_reading_fluent\n",
        "result_reading_fluent[\"%V\"] = percV_reading_fluent*100\n",
        "result_reading_fluent[\"DeltaC\"] = deltaC_reading_fluent\n",
        "result_reading_fluent[\"DeltaV\"] = deltaV_reading_fluent\n",
        "result_reading_fluent[\"VarcoC\"] = varcoC_reading_fluent*100\n",
        "result_reading_fluent[\"VarcoV\"] = varcoV_reading_fluent*100"
      ]
    },
    {
      "cell_type": "code",
      "execution_count": null,
      "metadata": {
        "id": "XJF6M6sfTejO"
      },
      "outputs": [],
      "source": [
        "result_reading_disfluent[\"ID\"] = pws_IDs\n",
        "result_reading_disfluent[\"nPVI\"] = nPVI_reading_disfluent\n",
        "result_reading_disfluent[\"rPVI\"] = rPVI_reading_disfluent\n",
        "result_reading_disfluent[\"%V\"] = percV_reading_disfluent*100\n",
        "result_reading_disfluent[\"DeltaC\"] = deltaC_reading_disfluent\n",
        "result_reading_disfluent[\"DeltaV\"] = deltaV_reading_disfluent\n",
        "result_reading_disfluent[\"VarcoC\"] = varcoC_reading_disfluent*100\n",
        "result_reading_disfluent[\"VarcoV\"] = varcoV_reading_disfluent*100"
      ]
    },
    {
      "cell_type": "code",
      "execution_count": null,
      "metadata": {
        "id": "htP028mYTg-I"
      },
      "outputs": [],
      "source": [
        "result_frog_fluent[\"ID\"] = pws_IDs\n",
        "result_frog_fluent[\"nPVI\"] = nPVI_frog_fluent\n",
        "result_frog_fluent[\"rPVI\"] = rPVI_frog_fluent\n",
        "result_frog_fluent[\"%V\"] = percV_frog_fluent*100\n",
        "result_frog_fluent[\"DeltaC\"] = deltaC_frog_fluent\n",
        "result_frog_fluent[\"DeltaV\"] = deltaV_frog_fluent\n",
        "result_frog_fluent[\"VarcoC\"] = varcoC_frog_fluent*100\n",
        "result_frog_fluent[\"VarcoV\"] = varcoV_frog_fluent*100"
      ]
    },
    {
      "cell_type": "code",
      "execution_count": null,
      "metadata": {
        "id": "e0cVfkT-Tk7K"
      },
      "outputs": [],
      "source": [
        "result_frog_disfluent[\"ID\"] = pws_IDs\n",
        "result_frog_disfluent[\"nPVI\"] = nPVI_frog_disfluent\n",
        "result_frog_disfluent[\"rPVI\"] = rPVI_frog_disfluent\n",
        "result_frog_disfluent[\"%V\"] = percV_frog_disfluent*100\n",
        "result_frog_disfluent[\"DeltaC\"] = deltaC_frog_disfluent\n",
        "result_frog_disfluent[\"DeltaV\"] = deltaV_frog_disfluent\n",
        "result_frog_disfluent[\"VarcoC\"] = varcoC_frog_disfluent*100\n",
        "result_frog_disfluent[\"VarcoV\"] = varcoV_frog_disfluent*100"
      ]
    },
    {
      "cell_type": "markdown",
      "source": [
        "**3. Plot Rhythm Metrics for Frog Only**"
      ],
      "metadata": {
        "id": "2fp1zckKNKCT"
      }
    },
    {
      "cell_type": "code",
      "source": [
        "result_reading_fluent[\"FluencyStatus\"] = \"fluent\"\n",
        "result_reading_disfluent[\"FluencyStatus\"] = \"disfluent\"\n",
        "result_frog_fluent[\"FluencyStatus\"] = \"fluent\"\n",
        "result_frog_disfluent[\"FluencyStatus\"] = \"disfluent\""
      ],
      "metadata": {
        "id": "AJh_xCSkNJdo"
      },
      "execution_count": null,
      "outputs": []
    },
    {
      "cell_type": "code",
      "source": [
        "plot_fluent_frog = result_frog_disfluent.append(result_frog_fluent)\n",
        "plot_fluent_frog[\"Condition\"] = \"frog\""
      ],
      "metadata": {
        "id": "xdGElGCgNPwy"
      },
      "execution_count": null,
      "outputs": []
    },
    {
      "cell_type": "code",
      "source": [
        "p_pws = plot_fluent_frog"
      ],
      "metadata": {
        "id": "bN_vgUMYNPog"
      },
      "execution_count": null,
      "outputs": []
    },
    {
      "cell_type": "code",
      "source": [
        "my_colors = [\"#FF8000\", \"#FFCC99\"]\n",
        "sns.set_palette(my_colors)"
      ],
      "metadata": {
        "id": "zaozmYg4NPgN"
      },
      "execution_count": null,
      "outputs": []
    },
    {
      "cell_type": "code",
      "source": [
        "metrics = ['nPVI','rPVI','%V','DeltaC','DeltaV','VarcoC','VarcoV']"
      ],
      "metadata": {
        "id": "QGAZfmLXNY1J"
      },
      "execution_count": null,
      "outputs": []
    },
    {
      "cell_type": "code",
      "source": [
        "for metric in metrics:\n",
        "  sns.set_style(\"white\")\n",
        "  g = sns.catplot(x = \"Condition\", y=metric,\n",
        "                  hue=\"FluencyStatus\",\n",
        "                  data=p_pws, kind=\"box\",\n",
        "                  height=4, aspect=.7);\n",
        "  g.fig.subplots_adjust(top=0.8)\n",
        "  g.fig.suptitle(\"Rhythmicity of Fluent vs. Disfluent Utterances in AWS\", fontsize=16, weight = \"bold\");\n",
        "\n",
        "  new_labels = ['Leading up to disfluency', 'Not leading up to disfluency']\n",
        "  for t, l in zip(g._legend.texts, new_labels):\n",
        "      t.set_text(l)"
      ],
      "metadata": {
        "id": "j2Ox0RyFNYor"
      },
      "execution_count": null,
      "outputs": []
    },
    {
      "cell_type": "markdown",
      "metadata": {
        "id": "6EIeel-jTvtF"
      },
      "source": [
        "**4. Plot Rhythm Metrics for Reading and Frog**"
      ]
    },
    {
      "cell_type": "code",
      "execution_count": null,
      "metadata": {
        "id": "4CVFsh9mTzDJ"
      },
      "outputs": [],
      "source": [
        "result_reading_fluent[\"FluencyStatus\"] = \"fluent\"\n",
        "result_reading_disfluent[\"FluencyStatus\"] = \"disfluent\"\n",
        "result_frog_fluent[\"FluencyStatus\"] = \"fluent\"\n",
        "result_frog_disfluent[\"FluencyStatus\"] = \"disfluent\""
      ]
    },
    {
      "cell_type": "code",
      "source": [
        "plot_fluent_reading = result_reading_disfluent.append(result_reading_fluent)\n",
        "plot_fluent_reading[\"Condition\"] = \"reading\""
      ],
      "metadata": {
        "id": "5xMgpGmINQgB"
      },
      "execution_count": null,
      "outputs": []
    },
    {
      "cell_type": "code",
      "source": [
        "plot_fluent_frog = result_frog_disfluent.append(result_frog_fluent)\n",
        "plot_fluent_frog[\"Condition\"] = \"frog\""
      ],
      "metadata": {
        "id": "tVYYg1HxNWeW"
      },
      "execution_count": null,
      "outputs": []
    },
    {
      "cell_type": "code",
      "execution_count": null,
      "metadata": {
        "id": "52_w7zELTy2V"
      },
      "outputs": [],
      "source": [
        "p_pws = plot_fluent_reading.append(plot_fluent_frog)"
      ]
    },
    {
      "cell_type": "code",
      "source": [
        "my_colors = [\"#FF8000\", \"#FFCC99\"]\n",
        "sns.set_palette(my_colors)"
      ],
      "metadata": {
        "id": "GwqZQuq1Ms7B"
      },
      "execution_count": null,
      "outputs": []
    },
    {
      "cell_type": "code",
      "source": [
        "metrics = ['nPVI','rPVI','%V','DeltaC','DeltaV','VarcoC','VarcoV']"
      ],
      "metadata": {
        "id": "L8Zko50XMsEe"
      },
      "execution_count": null,
      "outputs": []
    },
    {
      "cell_type": "code",
      "source": [
        "for metric in metrics:\n",
        "  sns.set_style(\"white\")\n",
        "  g = sns.catplot(x = \"Condition\", y=metric,\n",
        "                  hue=\"FluencyStatus\",\n",
        "                  data=p_pws, kind=\"box\",\n",
        "                  height=4, aspect=.7);\n",
        "  g.fig.subplots_adjust(top=0.8)\n",
        "  g.fig.suptitle(\"Rhythmicity of Fluent vs. Disfluent Utterances in AWS\", fontsize=16, weight = \"bold\");\n",
        "\n",
        "  new_labels = ['Leading up to disfluency', 'Not leading up to disfluency']\n",
        "  for t, l in zip(g._legend.texts, new_labels):\n",
        "      t.set_text(l)"
      ],
      "metadata": {
        "id": "b8UJzt-yuS6o"
      },
      "execution_count": null,
      "outputs": []
    },
    {
      "cell_type": "markdown",
      "source": [
        "**5. Save Dataframe**"
      ],
      "metadata": {
        "id": "0abfUB9dNeqI"
      }
    },
    {
      "cell_type": "code",
      "source": [
        "# Fluent vs. Disfluent (PWS)\n",
        "result_reading_fluent.to_excel(\"result_reading_fluent.xlsx\")\n",
        "result_reading_disfluent.to_excel(\"result_reading_disfluent.xlsx\")\n",
        "result_frog_fluent.to_excel(\"result_frog_fluent.xlsx\")\n",
        "result_frog_disfluent.to_excel(\"result_frog_disfluent.xlsx\")"
      ],
      "metadata": {
        "id": "DHvKutWVNiR8"
      },
      "execution_count": null,
      "outputs": []
    }
  ],
  "metadata": {
    "colab": {
      "provenance": [],
      "authorship_tag": "ABX9TyN3Eu3iaakoHBT7jVlTmEFm",
      "include_colab_link": true
    },
    "kernelspec": {
      "display_name": "Python 3",
      "name": "python3"
    },
    "language_info": {
      "name": "python"
    }
  },
  "nbformat": 4,
  "nbformat_minor": 0
}