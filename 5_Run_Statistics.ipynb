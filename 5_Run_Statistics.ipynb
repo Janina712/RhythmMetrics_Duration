{
  "cells": [
    {
      "cell_type": "markdown",
      "metadata": {
        "id": "view-in-github",
        "colab_type": "text"
      },
      "source": [
        "<a href=\"https://colab.research.google.com/github/Janina712/RhythmMetrics_Duration/blob/main/5_Run_Statistics.ipynb\" target=\"_parent\"><img src=\"https://colab.research.google.com/assets/colab-badge.svg\" alt=\"Open In Colab\"/></a>"
      ]
    },
    {
      "cell_type": "markdown",
      "metadata": {
        "id": "iiFQe-QTlH6A"
      },
      "source": [
        "**0. Imports & Set-Up**"
      ]
    },
    {
      "cell_type": "code",
      "execution_count": null,
      "metadata": {
        "colab": {
          "base_uri": "https://localhost:8080/"
        },
        "id": "wittYOQwlEUu",
        "outputId": "310dd273-1b92-4d62-d981-284bdae0c1a6"
      },
      "outputs": [
        {
          "output_type": "stream",
          "name": "stdout",
          "text": [
            "Collecting kaleido\n",
            "  Downloading kaleido-0.2.1-py2.py3-none-manylinux1_x86_64.whl (79.9 MB)\n",
            "\u001b[2K     \u001b[90m━━━━━━━━━━━━━━━━━━━━━━━━━━━━━━━━━━━━━━━━\u001b[0m \u001b[32m79.9/79.9 MB\u001b[0m \u001b[31m11.7 MB/s\u001b[0m eta \u001b[36m0:00:00\u001b[0m\n",
            "\u001b[?25hInstalling collected packages: kaleido\n",
            "\u001b[31mERROR: pip's dependency resolver does not currently take into account all the packages that are installed. This behaviour is the source of the following dependency conflicts.\n",
            "lida 0.0.10 requires fastapi, which is not installed.\n",
            "lida 0.0.10 requires python-multipart, which is not installed.\n",
            "lida 0.0.10 requires uvicorn, which is not installed.\u001b[0m\u001b[31m\n",
            "\u001b[0mSuccessfully installed kaleido-0.2.1\n"
          ]
        }
      ],
      "source": [
        "!pip install -U kaleido"
      ]
    },
    {
      "cell_type": "code",
      "execution_count": null,
      "metadata": {
        "id": "XHAC8fsulXMW"
      },
      "outputs": [],
      "source": [
        "import pandas as pd\n",
        "import numpy as np\n",
        "import os\n",
        "from scipy import stats\n",
        "import plotly.graph_objects as go\n",
        "import kaleido\n",
        "import matplotlib.pyplot as plt\n",
        "import warnings\n",
        "warnings.filterwarnings('ignore')"
      ]
    },
    {
      "cell_type": "code",
      "execution_count": null,
      "metadata": {
        "colab": {
          "base_uri": "https://localhost:8080/"
        },
        "id": "0QnOdSXVlZUX",
        "outputId": "2a3dd142-0bf7-434f-8c7a-0507e699d67d"
      },
      "outputs": [
        {
          "name": "stdout",
          "output_type": "stream",
          "text": [
            "Mounted at /content/gdrive\n"
          ]
        }
      ],
      "source": [
        "from google.colab import drive\n",
        "drive.mount(\"/content/gdrive\")"
      ]
    },
    {
      "cell_type": "code",
      "execution_count": null,
      "metadata": {
        "colab": {
          "base_uri": "https://localhost:8080/"
        },
        "id": "TZOX4PXwlblr",
        "outputId": "e41e6967-c354-4506-e50b-69c4206f4179"
      },
      "outputs": [
        {
          "name": "stdout",
          "output_type": "stream",
          "text": [
            "/content/gdrive/MyDrive/RhythmAnalysisPipeline/TD_analysis/4.MetricsResults\n"
          ]
        }
      ],
      "source": [
        "%cd /content/gdrive/MyDrive/ATAS_Plus/Duration_Metrics/4.MetricsResults/"
      ]
    },
    {
      "cell_type": "code",
      "execution_count": null,
      "metadata": {
        "id": "XEi3OGu2l4E0"
      },
      "outputs": [],
      "source": [
        "# PWS vs. Control\n",
        "reading_pws_fluent = pd.read_excel(\"result_reading_fluent_pws.xlsx\")\n",
        "reading_pws_fluent.drop(['Unnamed: 0'], axis=1 , inplace = True)\n",
        "frog_pws_fluent = pd.read_excel(\"result_frog_fluent_pws.xlsx\")\n",
        "frog_pws_fluent.drop(['Unnamed: 0'], axis=1 , inplace = True)\n",
        "reading_control_fluent = pd.read_excel(\"result_reading_fluent_control.xlsx\")\n",
        "reading_control_fluent.drop(['Unnamed: 0'], axis=1 , inplace = True)\n",
        "frog_control_fluent = pd.read_excel(\"result_frog_fluent_control.xlsx\")\n",
        "frog_control_fluent.drop(['Unnamed: 0'], axis=1 , inplace = True)"
      ]
    },
    {
      "cell_type": "code",
      "execution_count": null,
      "metadata": {
        "colab": {
          "base_uri": "https://localhost:8080/"
        },
        "id": "6eSzal2ambjN",
        "outputId": "ca715908-13d7-40b9-fdff-34d5e854afd9"
      },
      "outputs": [
        {
          "name": "stdout",
          "output_type": "stream",
          "text": [
            "/content/gdrive/MyDrive/RhythmAnalysisPipeline/TD_analysis\n",
            "/content/gdrive/MyDrive/RhythmAnalysisPipeline/TD_analysis/5.StatsResults\n"
          ]
        }
      ],
      "source": [
        "#set up result path to save along the way\n",
        "%cd /content/gdrive/MyDrive/ATAS_Plus/Duration_Metrics\n",
        "\n",
        "dir = \"5.StatsResults\"\n",
        "if os.path.exists(dir) == False:\n",
        "  os.mkdir(dir)\n",
        "\n",
        "%cd /content/gdrive/MyDrive/ATAS_Plus/Duration_Metrics/5.StatsResults/"
      ]
    },
    {
      "cell_type": "markdown",
      "metadata": {
        "id": "jeM0hs2LoKbN"
      },
      "source": [
        "# **I. Compare Groups: PWS vs. Control**"
      ]
    },
    {
      "cell_type": "markdown",
      "metadata": {
        "id": "_uzYvdpOoRl7"
      },
      "source": [
        "**1. Reading**"
      ]
    },
    {
      "cell_type": "code",
      "execution_count": null,
      "metadata": {
        "id": "JIcDYA8AoQ6F"
      },
      "outputs": [],
      "source": [
        "# t-tests\n",
        "[tstats_nPVI_r, pvalue_nPVI_r] = stats.ttest_ind(reading_pws_fluent[\"nPVI\"], reading_control_fluent[\"nPVI\"], equal_var=False)\n",
        "[tstats_rPVI_r, pvalue_rPVI_r] = stats.ttest_ind(reading_pws_fluent[\"rPVI\"], reading_control_fluent[\"rPVI\"], equal_var=False)\n",
        "[tstats_PercV_r, pvalue_PercV_r] = stats.ttest_ind(reading_pws_fluent[\"%V\"], reading_control_fluent[\"%V\"], equal_var=False)\n",
        "[tstats_DeltaC_r, pvalue_DeltaC_r] = stats.ttest_ind(reading_pws_fluent[\"DeltaC\"], reading_control_fluent[\"DeltaC\"], equal_var=False)\n",
        "[tstats_DeltaV_r, pvalue_DeltaV_r] = stats.ttest_ind(reading_pws_fluent[\"DeltaV\"], reading_control_fluent[\"DeltaV\"], equal_var=False)\n",
        "[tstats_VarcoC_r, pvalue_VarcoC_r] = stats.ttest_ind(reading_pws_fluent[\"VarcoC\"], reading_control_fluent[\"VarcoC\"], equal_var=False)\n",
        "[tstats_VarcoV_r, pvalue_VarcoV_r] = stats.ttest_ind(reading_pws_fluent[\"VarcoV\"], reading_control_fluent[\"VarcoV\"], equal_var=False)"
      ]
    },
    {
      "cell_type": "code",
      "execution_count": null,
      "metadata": {
        "id": "rfGJAkAdoQ2l"
      },
      "outputs": [],
      "source": [
        "dof = (len(reading_pws_fluent)+len(reading_control_fluent)-2)\n",
        "df_reading = (len(interview_pws_fluent)+len(interview_control_fluent))"
      ]
    },
    {
      "cell_type": "code",
      "execution_count": null,
      "metadata": {
        "id": "TMgNRFb7oQzx"
      },
      "outputs": [],
      "source": [
        "cohens_d_nPVI_r = abs(reading_pws_fluent.mean()[0]-reading_control_fluent.mean()[0])/(((np.sqrt((len(reading_pws_fluent)-1) * reading_pws_fluent.std()[0])**2) + (np.sqrt((len(reading_control_fluent)-1) * reading_control_fluent.std()[0])**2))/dof)\n",
        "cohens_d_rPVI_r = abs(reading_pws_fluent.mean()[1]-reading_control_fluent.mean()[1])/(((np.sqrt((len(reading_pws_fluent)-1) * reading_pws_fluent.std()[1])**2) + (np.sqrt((len(reading_control_fluent)-1) * reading_control_fluent.std()[1])**2))/dof)\n",
        "cohens_d_PercV_r = abs(reading_pws_fluent.mean()[2]-reading_control_fluent.mean()[2])/(((np.sqrt((len(reading_pws_fluent)-1) * reading_pws_fluent.std()[2])**2) + (np.sqrt((len(reading_control_fluent)-1) * reading_control_fluent.std()[2])**2))/dof)\n",
        "cohens_d_DeltaC_r = abs(reading_pws_fluent.mean()[3]-reading_control_fluent.mean()[3])/(((np.sqrt((len(reading_pws_fluent)-1) * reading_pws_fluent.std()[3])**2) + (np.sqrt((len(reading_control_fluent)-1) * reading_control_fluent.std()[3])**2))/dof)\n",
        "cohens_d_DeltaV_r = abs(reading_pws_fluent.mean()[4]-reading_control_fluent.mean()[4])/(((np.sqrt((len(reading_pws_fluent)-1) * reading_pws_fluent.std()[4])**2) + (np.sqrt((len(reading_control_fluent)-1) * reading_control_fluent.std()[4])**2))/dof)\n",
        "cohens_d_VarcoC_r = abs(reading_pws_fluent.mean()[5]-reading_control_fluent.mean()[5])/(((np.sqrt((len(reading_pws_fluent)-1) * reading_pws_fluent.std()[5])**2) + (np.sqrt((len(reading_control_fluent)-1) * reading_control_fluent.std()[5])**2))/dof)\n",
        "cohens_d_VarcoV_r = abs(reading_pws_fluent.mean()[6]-reading_control_fluent.mean()[6])/(((np.sqrt((len(reading_pws_fluent)-1) * reading_pws_fluent.std()[6])**2) + (np.sqrt((len(reading_control_fluent)-1) * reading_control_fluent.std()[6])**2))/dof)"
      ]
    },
    {
      "cell_type": "code",
      "execution_count": null,
      "metadata": {
        "id": "C0cTdqUXoQls"
      },
      "outputs": [],
      "source": [
        "means = [reading_pws_fluent.mean()[0], reading_control_fluent.mean()[0], reading_pws_fluent.mean()[1],reading_control_fluent.mean()[1],reading_pws_fluent.mean()[2], reading_control_fluent.mean()[2], reading_pws_fluent.mean()[3],reading_control_fluent.mean()[3], reading_pws_fluent.mean()[4],reading_control_fluent.mean()[4], reading_pws_fluent.mean()[5], reading_control_fluent.mean()[5],reading_pws_fluent.mean()[6], reading_control_fluent.mean()[6]]\n",
        "sds = [reading_pws_fluent.std()[0], reading_control_fluent.std()[0], reading_pws_fluent.std()[1],reading_control_fluent.std()[1],reading_pws_fluent.std()[2], reading_control_fluent.std()[2], reading_pws_fluent.std()[3],reading_control_fluent.std()[3], reading_pws_fluent.std()[4],reading_control_fluent.std()[4], reading_pws_fluent.std()[5], reading_control_fluent.std()[5],reading_pws_fluent.std()[6], reading_control_fluent.std()[6]]"
      ]
    },
    {
      "cell_type": "code",
      "execution_count": null,
      "metadata": {
        "id": "fk3-LEkUodCv"
      },
      "outputs": [],
      "source": [
        "p_vals = [pvalue_nPVI_r, pvalue_rPVI_r, pvalue_PercV_r, pvalue_DeltaC_r, pvalue_DeltaV_r, pvalue_VarcoC_r, pvalue_VarcoV_r]\n",
        "bc = 0.05/7         # bonferroni correction of dependent comparisons\n",
        "for p in range(0, len(p_vals)):\n",
        "  if p_vals[p] < bc:\n",
        "    p_vals[p] = '*' + str(round(p_vals[p],3))\n",
        "  else:\n",
        "    p_vals[p] = str(round(p_vals[p],3))"
      ]
    },
    {
      "cell_type": "code",
      "execution_count": null,
      "metadata": {
        "id": "G2-7m46Foc_Y"
      },
      "outputs": [],
      "source": [
        "fig = go.Figure(data=[go.Table(\n",
        "    header=dict(values=['Rhythm Metrics', 'Group', 'Mean','SD', 'df (T-Value)', 'p-Value', 'Effect Size'],\n",
        "                line_color='black',\n",
        "                fill_color='lightgray',\n",
        "                align='left'),\n",
        "    cells=dict(values=[[\"nPVI\",\"\", \"rPVI\", \"\",\"%V\", \"\",\"DeltaC\", \"\",\"DeltaV\",\"\", \"VarcoC\",\"\", \"VarcoV\",\"\"], # 1st column\n",
        "                       [\"CWS\", \"CWNS\", \"CWS\", \"CWNS\", \"CWS\", \"CWNS\", \"CWS\", \"CWNS\", \"CWS\", \"CWNS\", \"CWS\", \"CWNS\", \"CWS\", \"CWNS\"],\n",
        "                      [round(means[0],2),round(means[1],2),round(means[2],2),round(means[3],2),round(means[4],2),round(means[5],2),round(means[6],3),round(means[7],3),round(means[8],3),round(means[9],3),round(means[10],2),round(means[11],2),round(means[12],2),round(means[13],2) ],\n",
        "                       [round(sds[0],2),round(sds[1],2),round(sds[2],2),round(sds[3],2),round(sds[4],2),round(sds[5],2),round(sds[6],3),round(sds[7],3),round(sds[8],3),round(sds[9],3),round(sds[10],2),round(sds[11],2),round(sds[12],2),round(sds[13],2) ],\n",
        "                       [[df_reading, round(tstats_nPVI_r,3)],\"\", [df_reading, round(tstats_rPVI_r,3)], \"\",[df_reading, round(tstats_PercV_r,3)],\"\", [df_reading, round(tstats_DeltaC_r,3)],\"\", [df_reading, round(tstats_DeltaV_r,3)],\"\", [df_reading, round(tstats_VarcoC_r,3)],\"\", [df_reading, round(tstats_VarcoV_r,3)], \"\"],\n",
        "                       [p_vals[0],\"\", p_vals[1], \"\",p_vals[2],\"\", p_vals[3],\"\", p_vals[4],\"\", p_vals[5],\"\", p_vals[6], \"\"],\n",
        "                       [round(cohens_d_nPVI_r,3),\"\", round(cohens_d_rPVI_r,3), \"\",round(cohens_d_PercV_r,3),\"\", round(cohens_d_DeltaC_r,3),\"\", round(cohens_d_DeltaV_r,3),\"\", round(cohens_d_VarcoC_r,3),\"\", round(cohens_d_VarcoV_r,3), \"\"]], # 2nd column\n",
        "               line_color='darkslategray',\n",
        "               fill_color='white',\n",
        "               align='left'))\n",
        "])"
      ]
    },
    {
      "cell_type": "code",
      "execution_count": null,
      "metadata": {
        "colab": {
          "base_uri": "https://localhost:8080/",
          "height": 542
        },
        "id": "BPd_SXMeoc8x",
        "outputId": "51d5a1ec-4364-44a9-9dd4-567387ea806f"
      },
      "outputs": [
        {
          "data": {
            "text/html": [
              "<html>\n",
              "<head><meta charset=\"utf-8\" /></head>\n",
              "<body>\n",
              "    <div>            <script src=\"https://cdnjs.cloudflare.com/ajax/libs/mathjax/2.7.5/MathJax.js?config=TeX-AMS-MML_SVG\"></script><script type=\"text/javascript\">if (window.MathJax && window.MathJax.Hub && window.MathJax.Hub.Config) {window.MathJax.Hub.Config({SVG: {font: \"STIX-Web\"}});}</script>                <script type=\"text/javascript\">window.PlotlyConfig = {MathJaxConfig: 'local'};</script>\n",
              "        <script src=\"https://cdn.plot.ly/plotly-2.18.2.min.js\"></script>                <div id=\"ac1538d8-2af3-4550-a858-f72aa896404c\" class=\"plotly-graph-div\" style=\"height:525px; width:100%;\"></div>            <script type=\"text/javascript\">                                    window.PLOTLYENV=window.PLOTLYENV || {};                                    if (document.getElementById(\"ac1538d8-2af3-4550-a858-f72aa896404c\")) {                    Plotly.newPlot(                        \"ac1538d8-2af3-4550-a858-f72aa896404c\",                        [{\"cells\":{\"align\":\"left\",\"fill\":{\"color\":\"white\"},\"line\":{\"color\":\"darkslategray\"},\"values\":[[\"nPVI\",\"\",\"rPVI\",\"\",\"%V\",\"\",\"DeltaC\",\"\",\"DeltaV\",\"\",\"VarcoC\",\"\",\"VarcoV\",\"\"],[\"AWS\",\"AWNS\",\"AWS\",\"AWNS\",\"AWS\",\"AWNS\",\"AWS\",\"AWNS\",\"AWS\",\"AWNS\",\"AWS\",\"AWNS\",\"AWS\",\"AWNS\"],[66.36,64.48,0.05,0.04,43.72,40.89,0.043,0.036,0.051,0.043,59.25,51.49,60.13,57.57],[5.1,4.53,0.01,0.01,3.39,2.06,0.005,0.005,0.011,0.008,10.39,3.25,8.41,4.45],[[36,1.169],\"\",[36,2.763],\"\",[36,3.03],\"\",[36,3.622],\"\",[36,2.737],\"\",[36,3.027],\"\",[36,1.142],\"\"],[\"0.251\",\"\",\"0.009\",\"\",\"*0.005\",\"\",\"*0.001\",\"\",\"0.01\",\"\",\"*0.007\",\"\",\"0.264\",\"\"],[0.39,\"\",0.923,\"\",1.04,\"\",1.208,\"\",0.923,\"\",1.139,\"\",0.398,\"\"]]},\"header\":{\"align\":\"left\",\"fill\":{\"color\":\"lightgray\"},\"line\":{\"color\":\"black\"},\"values\":[\"Rhythm Metrics\",\"Group\",\"Mean\",\"SD\",\"df (T-Value)\",\"p-Value\",\"Effect Size\"]},\"type\":\"table\"}],                        {\"template\":{\"data\":{\"histogram2dcontour\":[{\"type\":\"histogram2dcontour\",\"colorbar\":{\"outlinewidth\":0,\"ticks\":\"\"},\"colorscale\":[[0.0,\"#0d0887\"],[0.1111111111111111,\"#46039f\"],[0.2222222222222222,\"#7201a8\"],[0.3333333333333333,\"#9c179e\"],[0.4444444444444444,\"#bd3786\"],[0.5555555555555556,\"#d8576b\"],[0.6666666666666666,\"#ed7953\"],[0.7777777777777778,\"#fb9f3a\"],[0.8888888888888888,\"#fdca26\"],[1.0,\"#f0f921\"]]}],\"choropleth\":[{\"type\":\"choropleth\",\"colorbar\":{\"outlinewidth\":0,\"ticks\":\"\"}}],\"histogram2d\":[{\"type\":\"histogram2d\",\"colorbar\":{\"outlinewidth\":0,\"ticks\":\"\"},\"colorscale\":[[0.0,\"#0d0887\"],[0.1111111111111111,\"#46039f\"],[0.2222222222222222,\"#7201a8\"],[0.3333333333333333,\"#9c179e\"],[0.4444444444444444,\"#bd3786\"],[0.5555555555555556,\"#d8576b\"],[0.6666666666666666,\"#ed7953\"],[0.7777777777777778,\"#fb9f3a\"],[0.8888888888888888,\"#fdca26\"],[1.0,\"#f0f921\"]]}],\"heatmap\":[{\"type\":\"heatmap\",\"colorbar\":{\"outlinewidth\":0,\"ticks\":\"\"},\"colorscale\":[[0.0,\"#0d0887\"],[0.1111111111111111,\"#46039f\"],[0.2222222222222222,\"#7201a8\"],[0.3333333333333333,\"#9c179e\"],[0.4444444444444444,\"#bd3786\"],[0.5555555555555556,\"#d8576b\"],[0.6666666666666666,\"#ed7953\"],[0.7777777777777778,\"#fb9f3a\"],[0.8888888888888888,\"#fdca26\"],[1.0,\"#f0f921\"]]}],\"heatmapgl\":[{\"type\":\"heatmapgl\",\"colorbar\":{\"outlinewidth\":0,\"ticks\":\"\"},\"colorscale\":[[0.0,\"#0d0887\"],[0.1111111111111111,\"#46039f\"],[0.2222222222222222,\"#7201a8\"],[0.3333333333333333,\"#9c179e\"],[0.4444444444444444,\"#bd3786\"],[0.5555555555555556,\"#d8576b\"],[0.6666666666666666,\"#ed7953\"],[0.7777777777777778,\"#fb9f3a\"],[0.8888888888888888,\"#fdca26\"],[1.0,\"#f0f921\"]]}],\"contourcarpet\":[{\"type\":\"contourcarpet\",\"colorbar\":{\"outlinewidth\":0,\"ticks\":\"\"}}],\"contour\":[{\"type\":\"contour\",\"colorbar\":{\"outlinewidth\":0,\"ticks\":\"\"},\"colorscale\":[[0.0,\"#0d0887\"],[0.1111111111111111,\"#46039f\"],[0.2222222222222222,\"#7201a8\"],[0.3333333333333333,\"#9c179e\"],[0.4444444444444444,\"#bd3786\"],[0.5555555555555556,\"#d8576b\"],[0.6666666666666666,\"#ed7953\"],[0.7777777777777778,\"#fb9f3a\"],[0.8888888888888888,\"#fdca26\"],[1.0,\"#f0f921\"]]}],\"surface\":[{\"type\":\"surface\",\"colorbar\":{\"outlinewidth\":0,\"ticks\":\"\"},\"colorscale\":[[0.0,\"#0d0887\"],[0.1111111111111111,\"#46039f\"],[0.2222222222222222,\"#7201a8\"],[0.3333333333333333,\"#9c179e\"],[0.4444444444444444,\"#bd3786\"],[0.5555555555555556,\"#d8576b\"],[0.6666666666666666,\"#ed7953\"],[0.7777777777777778,\"#fb9f3a\"],[0.8888888888888888,\"#fdca26\"],[1.0,\"#f0f921\"]]}],\"mesh3d\":[{\"type\":\"mesh3d\",\"colorbar\":{\"outlinewidth\":0,\"ticks\":\"\"}}],\"scatter\":[{\"fillpattern\":{\"fillmode\":\"overlay\",\"size\":10,\"solidity\":0.2},\"type\":\"scatter\"}],\"parcoords\":[{\"type\":\"parcoords\",\"line\":{\"colorbar\":{\"outlinewidth\":0,\"ticks\":\"\"}}}],\"scatterpolargl\":[{\"type\":\"scatterpolargl\",\"marker\":{\"colorbar\":{\"outlinewidth\":0,\"ticks\":\"\"}}}],\"bar\":[{\"error_x\":{\"color\":\"#2a3f5f\"},\"error_y\":{\"color\":\"#2a3f5f\"},\"marker\":{\"line\":{\"color\":\"#E5ECF6\",\"width\":0.5},\"pattern\":{\"fillmode\":\"overlay\",\"size\":10,\"solidity\":0.2}},\"type\":\"bar\"}],\"scattergeo\":[{\"type\":\"scattergeo\",\"marker\":{\"colorbar\":{\"outlinewidth\":0,\"ticks\":\"\"}}}],\"scatterpolar\":[{\"type\":\"scatterpolar\",\"marker\":{\"colorbar\":{\"outlinewidth\":0,\"ticks\":\"\"}}}],\"histogram\":[{\"marker\":{\"pattern\":{\"fillmode\":\"overlay\",\"size\":10,\"solidity\":0.2}},\"type\":\"histogram\"}],\"scattergl\":[{\"type\":\"scattergl\",\"marker\":{\"colorbar\":{\"outlinewidth\":0,\"ticks\":\"\"}}}],\"scatter3d\":[{\"type\":\"scatter3d\",\"line\":{\"colorbar\":{\"outlinewidth\":0,\"ticks\":\"\"}},\"marker\":{\"colorbar\":{\"outlinewidth\":0,\"ticks\":\"\"}}}],\"scattermapbox\":[{\"type\":\"scattermapbox\",\"marker\":{\"colorbar\":{\"outlinewidth\":0,\"ticks\":\"\"}}}],\"scatterternary\":[{\"type\":\"scatterternary\",\"marker\":{\"colorbar\":{\"outlinewidth\":0,\"ticks\":\"\"}}}],\"scattercarpet\":[{\"type\":\"scattercarpet\",\"marker\":{\"colorbar\":{\"outlinewidth\":0,\"ticks\":\"\"}}}],\"carpet\":[{\"aaxis\":{\"endlinecolor\":\"#2a3f5f\",\"gridcolor\":\"white\",\"linecolor\":\"white\",\"minorgridcolor\":\"white\",\"startlinecolor\":\"#2a3f5f\"},\"baxis\":{\"endlinecolor\":\"#2a3f5f\",\"gridcolor\":\"white\",\"linecolor\":\"white\",\"minorgridcolor\":\"white\",\"startlinecolor\":\"#2a3f5f\"},\"type\":\"carpet\"}],\"table\":[{\"cells\":{\"fill\":{\"color\":\"#EBF0F8\"},\"line\":{\"color\":\"white\"}},\"header\":{\"fill\":{\"color\":\"#C8D4E3\"},\"line\":{\"color\":\"white\"}},\"type\":\"table\"}],\"barpolar\":[{\"marker\":{\"line\":{\"color\":\"#E5ECF6\",\"width\":0.5},\"pattern\":{\"fillmode\":\"overlay\",\"size\":10,\"solidity\":0.2}},\"type\":\"barpolar\"}],\"pie\":[{\"automargin\":true,\"type\":\"pie\"}]},\"layout\":{\"autotypenumbers\":\"strict\",\"colorway\":[\"#636efa\",\"#EF553B\",\"#00cc96\",\"#ab63fa\",\"#FFA15A\",\"#19d3f3\",\"#FF6692\",\"#B6E880\",\"#FF97FF\",\"#FECB52\"],\"font\":{\"color\":\"#2a3f5f\"},\"hovermode\":\"closest\",\"hoverlabel\":{\"align\":\"left\"},\"paper_bgcolor\":\"white\",\"plot_bgcolor\":\"#E5ECF6\",\"polar\":{\"bgcolor\":\"#E5ECF6\",\"angularaxis\":{\"gridcolor\":\"white\",\"linecolor\":\"white\",\"ticks\":\"\"},\"radialaxis\":{\"gridcolor\":\"white\",\"linecolor\":\"white\",\"ticks\":\"\"}},\"ternary\":{\"bgcolor\":\"#E5ECF6\",\"aaxis\":{\"gridcolor\":\"white\",\"linecolor\":\"white\",\"ticks\":\"\"},\"baxis\":{\"gridcolor\":\"white\",\"linecolor\":\"white\",\"ticks\":\"\"},\"caxis\":{\"gridcolor\":\"white\",\"linecolor\":\"white\",\"ticks\":\"\"}},\"coloraxis\":{\"colorbar\":{\"outlinewidth\":0,\"ticks\":\"\"}},\"colorscale\":{\"sequential\":[[0.0,\"#0d0887\"],[0.1111111111111111,\"#46039f\"],[0.2222222222222222,\"#7201a8\"],[0.3333333333333333,\"#9c179e\"],[0.4444444444444444,\"#bd3786\"],[0.5555555555555556,\"#d8576b\"],[0.6666666666666666,\"#ed7953\"],[0.7777777777777778,\"#fb9f3a\"],[0.8888888888888888,\"#fdca26\"],[1.0,\"#f0f921\"]],\"sequentialminus\":[[0.0,\"#0d0887\"],[0.1111111111111111,\"#46039f\"],[0.2222222222222222,\"#7201a8\"],[0.3333333333333333,\"#9c179e\"],[0.4444444444444444,\"#bd3786\"],[0.5555555555555556,\"#d8576b\"],[0.6666666666666666,\"#ed7953\"],[0.7777777777777778,\"#fb9f3a\"],[0.8888888888888888,\"#fdca26\"],[1.0,\"#f0f921\"]],\"diverging\":[[0,\"#8e0152\"],[0.1,\"#c51b7d\"],[0.2,\"#de77ae\"],[0.3,\"#f1b6da\"],[0.4,\"#fde0ef\"],[0.5,\"#f7f7f7\"],[0.6,\"#e6f5d0\"],[0.7,\"#b8e186\"],[0.8,\"#7fbc41\"],[0.9,\"#4d9221\"],[1,\"#276419\"]]},\"xaxis\":{\"gridcolor\":\"white\",\"linecolor\":\"white\",\"ticks\":\"\",\"title\":{\"standoff\":15},\"zerolinecolor\":\"white\",\"automargin\":true,\"zerolinewidth\":2},\"yaxis\":{\"gridcolor\":\"white\",\"linecolor\":\"white\",\"ticks\":\"\",\"title\":{\"standoff\":15},\"zerolinecolor\":\"white\",\"automargin\":true,\"zerolinewidth\":2},\"scene\":{\"xaxis\":{\"backgroundcolor\":\"#E5ECF6\",\"gridcolor\":\"white\",\"linecolor\":\"white\",\"showbackground\":true,\"ticks\":\"\",\"zerolinecolor\":\"white\",\"gridwidth\":2},\"yaxis\":{\"backgroundcolor\":\"#E5ECF6\",\"gridcolor\":\"white\",\"linecolor\":\"white\",\"showbackground\":true,\"ticks\":\"\",\"zerolinecolor\":\"white\",\"gridwidth\":2},\"zaxis\":{\"backgroundcolor\":\"#E5ECF6\",\"gridcolor\":\"white\",\"linecolor\":\"white\",\"showbackground\":true,\"ticks\":\"\",\"zerolinecolor\":\"white\",\"gridwidth\":2}},\"shapedefaults\":{\"line\":{\"color\":\"#2a3f5f\"}},\"annotationdefaults\":{\"arrowcolor\":\"#2a3f5f\",\"arrowhead\":0,\"arrowwidth\":1},\"geo\":{\"bgcolor\":\"white\",\"landcolor\":\"#E5ECF6\",\"subunitcolor\":\"white\",\"showland\":true,\"showlakes\":true,\"lakecolor\":\"white\"},\"title\":{\"x\":0.05},\"mapbox\":{\"style\":\"light\"}}}},                        {\"responsive\": true}                    ).then(function(){\n",
              "                            \n",
              "var gd = document.getElementById('ac1538d8-2af3-4550-a858-f72aa896404c');\n",
              "var x = new MutationObserver(function (mutations, observer) {{\n",
              "        var display = window.getComputedStyle(gd).display;\n",
              "        if (!display || display === 'none') {{\n",
              "            console.log([gd, 'removed!']);\n",
              "            Plotly.purge(gd);\n",
              "            observer.disconnect();\n",
              "        }}\n",
              "}});\n",
              "\n",
              "// Listen for the removal of the full notebook cells\n",
              "var notebookContainer = gd.closest('#notebook-container');\n",
              "if (notebookContainer) {{\n",
              "    x.observe(notebookContainer, {childList: true});\n",
              "}}\n",
              "\n",
              "// Listen for the clearing of the current output cell\n",
              "var outputEl = gd.closest('.output');\n",
              "if (outputEl) {{\n",
              "    x.observe(outputEl, {childList: true});\n",
              "}}\n",
              "\n",
              "                        })                };                            </script>        </div>\n",
              "</body>\n",
              "</html>"
            ]
          },
          "metadata": {},
          "output_type": "display_data"
        }
      ],
      "source": [
        "fig.show()"
      ]
    },
    {
      "cell_type": "code",
      "execution_count": null,
      "metadata": {
        "id": "SMc7ZoTFoc6I"
      },
      "outputs": [],
      "source": [
        "fig.write_image(\"groups_reading_results.png\")"
      ]
    },
    {
      "cell_type": "markdown",
      "metadata": {
        "id": "yHdg89jRolLg"
      },
      "source": [
        "**2. Frog**"
      ]
    },
    {
      "cell_type": "code",
      "execution_count": null,
      "metadata": {
        "id": "lvx5I864ocxm"
      },
      "outputs": [],
      "source": [
        "# t-tests\n",
        "[tstats_nPVI_i, pvalue_nPVI_i] = stats.ttest_ind(frog_pws_fluent[\"nPVI\"], frog_control_fluent[\"nPVI\"], equal_var=False)\n",
        "[tstats_rPVI_i, pvalue_rPVI_i] = stats.ttest_ind(frog_pws_fluent[\"rPVI\"], frog_control_fluent[\"rPVI\"], equal_var=False)\n",
        "[tstats_PercV_i, pvalue_PercV_i] = stats.ttest_ind(frog_pws_fluent[\"%V\"], frog_control_fluent[\"%V\"], equal_var=False,  nan_policy='omit')\n",
        "[tstats_DeltaC_i, pvalue_DeltaC_i] = stats.ttest_ind(frog_pws_fluent[\"DeltaC\"], frog_control_fluent[\"DeltaC\"], equal_var=False)\n",
        "[tstats_DeltaV_i, pvalue_DeltaV_i] = stats.ttest_ind(frog_pws_fluent[\"DeltaV\"], frog_control_fluent[\"DeltaV\"], equal_var=False)\n",
        "[tstats_VarcoC_i, pvalue_VarcoC_i] = stats.ttest_ind(frog_pws_fluent[\"VarcoC\"], frog_control_fluent[\"VarcoC\"], equal_var=False)\n",
        "[tstats_VarcoV_i, pvalue_VarcoV_i] = stats.ttest_ind(frog_pws_fluent[\"VarcoV\"], frog_control_fluent[\"VarcoV\"], equal_var=False)"
      ]
    },
    {
      "cell_type": "code",
      "execution_count": null,
      "metadata": {
        "id": "fFBwOmfQo4D2"
      },
      "outputs": [],
      "source": [
        "#degrees of freedom\n",
        "dof = (len(frog_pws_fluent)+len(frog_control_fluent)-2)\n",
        "df_interview = (len(frog_pws_fluent)+len(frog_control_fluent))"
      ]
    },
    {
      "cell_type": "code",
      "execution_count": null,
      "metadata": {
        "id": "E1XttTFgo4AY"
      },
      "outputs": [],
      "source": [
        "# effect size\n",
        "cohens_d_nPVI_i = abs(frog_pws_fluent.mean()[0]-frog_control_fluent.mean()[0])/(((np.sqrt((len(frog_pws_fluent)-1) * frog_pws_fluent.std()[0])**2) + (np.sqrt((len(frog_control_fluent)-1) * frog_control_fluent.std()[0])**2))/dof)\n",
        "cohens_d_rPVI_i = abs(frog_pws_fluent.mean()[1]-frog_control_fluent.mean()[1])/(((np.sqrt((len(frog_pws_fluent)-1) * frog_pws_fluent.std()[1])**2) + (np.sqrt((len(frog_control_fluent)-1) * frog_control_fluent.std()[1])**2))/dof)\n",
        "cohens_d_PercV_i = abs(frog_pws_fluent.mean()[2]-frog_control_fluent.mean()[2])/(((np.sqrt((len(frog_pws_fluent)-1) * frog_pws_fluent.std()[2])**2) + (np.sqrt((len(frog_control_fluent)-1) * frog_control_fluent.std()[2])**2))/dof)\n",
        "cohens_d_DeltaC_i = abs(frog_pws_fluent.mean()[3]-frog_control_fluent.mean()[3])/(((np.sqrt((len(frog_pws_fluent)-1) * frog_pws_fluent.std()[3])**2) + (np.sqrt((len(frog_control_fluent)-1) * frog_control_fluent.std()[3])**2))/dof)\n",
        "cohens_d_DeltaV_i = abs(frog_pws_fluent.mean()[4]-frog_control_fluent.mean()[4])/(((np.sqrt((len(frog_pws_fluent)-1) * frog_pws_fluent.std()[4])**2) + (np.sqrt((len(frog_control_fluent)-1) * frog_control_fluent.std()[4])**2))/dof)\n",
        "cohens_d_VarcoC_i = abs(frog_pws_fluent.mean()[5]-frog_control_fluent.mean()[5])/(((np.sqrt((len(frog_pws_fluent)-1) * frog_pws_fluent.std()[5])**2) + (np.sqrt((len(frog_control_fluent)-1) * frog_control_fluent.std()[5])**2))/dof)\n",
        "cohens_d_VarcoV_i = abs(frog_pws_fluent.mean()[6]-frog_control_fluent.mean()[6])/(((np.sqrt((len(frog_pws_fluent)-1) * frog_pws_fluent.std()[6])**2) + (np.sqrt((len(frog_control_fluent)-1) * frog_control_fluent.std()[6])**2))/dof)"
      ]
    },
    {
      "cell_type": "code",
      "execution_count": null,
      "metadata": {
        "id": "U4LwZ9IEo391"
      },
      "outputs": [],
      "source": [
        "means = [frog_pws_fluent.mean()[0], frog_control_fluent.mean()[0], frog_pws_fluent.mean()[1],frog_control_fluent.mean()[1],frog_pws_fluent.mean()[2], frog_control_fluent.mean()[2], frog_pws_fluent.mean()[3],frog_control_fluent.mean()[3], frog_pws_fluent.mean()[4],frog_control_fluent.mean()[4], frog_pws_fluent.mean()[5], frog_control_fluent.mean()[5],frog_pws_fluent.mean()[6], frog_control_fluent.mean()[6]]\n",
        "sds = [frog_pws_fluent.std()[0], frog_control_fluent.std()[0], frog_pws_fluent.std()[1],frog_control_fluent.std()[1],frog_pws_fluent.std()[2], frog_control_fluent.std()[2], frog_pws_fluent.std()[3],frog_control_fluent.std()[3], frog_pws_fluent.std()[4],frog_control_fluent.std()[4], frog_pws_fluent.std()[5], frog_control_fluent.std()[5],frog_pws_fluent.std()[6], frog_control_fluent.std()[6]]"
      ]
    },
    {
      "cell_type": "code",
      "execution_count": null,
      "metadata": {
        "id": "5v4QAGaNo37O"
      },
      "outputs": [],
      "source": [
        "p_vals = [pvalue_nPVI_i, pvalue_rPVI_i, pvalue_PercV_i, pvalue_DeltaC_i, pvalue_DeltaV_i, pvalue_VarcoC_i, pvalue_VarcoV_i]\n",
        "bc = 0.05/7         # bonferroni correction of dependent comparisons\n",
        "for p in range(0, len(p_vals)):\n",
        "  if p_vals[p] < bc:\n",
        "    p_vals[p] = '*' + str(round(p_vals[p],3))\n",
        "  else:\n",
        "    p_vals[p] = str(round(p_vals[p],3))"
      ]
    },
    {
      "cell_type": "code",
      "execution_count": null,
      "metadata": {
        "id": "l1BRF7-Wo34i"
      },
      "outputs": [],
      "source": [
        "fig = go.Figure(data=[go.Table(\n",
        "    header=dict(values=['Rhythm Metrics', 'Group', 'Mean','SD', 'df (T-Value)', 'p-Value', 'Effect Size'],\n",
        "                line_color='black',\n",
        "                fill_color='lightgray',\n",
        "                align='left'),\n",
        "    cells=dict(values=[[\"nPVI\",\"\", \"rPVI\", \"\",\"%V\", \"\",\"DeltaC\", \"\",\"DeltaV\",\"\", \"VarcoC\",\"\", \"VarcoV\",\"\"], # 1st column\n",
        "                       [\"CWS\", \"CWNS\", \"CWS\", \"CWNS\", \"CWS\", \"CWNS\", \"CWS\", \"CWNS\", \"CWS\", \"CWNS\", \"CWS\", \"CWNS\", \"CWS\", \"CWNS\"],\n",
        "                      [round(means[0],2),round(means[1],2),round(means[2],2),round(means[3],2),round(means[4],2),round(means[5],2),round(means[6],3),round(means[7],3),round(means[8],3),round(means[9],3),round(means[10],2),round(means[11],2),round(means[12],2),round(means[13],2) ],\n",
        "                       [round(sds[0],2),round(sds[1],2),round(sds[2],2),round(sds[3],2),round(sds[4],2),round(sds[5],2),round(sds[6],3),round(sds[7],3),round(sds[8],3),round(sds[9],3),round(sds[10],2),round(sds[11],2),round(sds[12],2),round(sds[13],2) ],\n",
        "                       [[df_frog, round(tstats_nPVI_i,3)],\"\", [df_frog, round(tstats_rPVI_i,3)], \"\",[df_frog, round(tstats_PercV_i,3)],\"\", [df_frog, round(tstats_DeltaC_i,3)],\"\", [df_frog, round(tstats_DeltaV_i,3)],\"\", [df_frog, round(tstats_VarcoC_i,3)],\"\", [df_frog, round(tstats_VarcoV_i,3)], \"\"],\n",
        "                       [p_vals[0],\"\", p_vals[1], \"\",p_vals[2],\"\", p_vals[3],\"\", p_vals[4],\"\", p_vals[5],\"\", p_vals[6], \"\"],\n",
        "                       [round(cohens_d_nPVI_i,3),\"\", round(cohens_d_rPVI_i,3), \"\",round(cohens_d_PercV_i,3),\"\", round(cohens_d_DeltaC_i,3),\"\", round(cohens_d_DeltaV_i,3),\"\", round(cohens_d_VarcoC_i,3),\"\", round(cohens_d_VarcoV_i,3), \"\"]], # 2nd column\n",
        "               line_color='darkslategray',\n",
        "               fill_color='white',\n",
        "               align='left'))\n",
        "])"
      ]
    },
    {
      "cell_type": "code",
      "execution_count": null,
      "metadata": {
        "colab": {
          "base_uri": "https://localhost:8080/",
          "height": 542
        },
        "id": "diFUhgAcpBfg",
        "outputId": "f6c834ea-2ff2-431c-ee6a-d2f994a666e7"
      },
      "outputs": [
        {
          "data": {
            "text/html": [
              "<html>\n",
              "<head><meta charset=\"utf-8\" /></head>\n",
              "<body>\n",
              "    <div>            <script src=\"https://cdnjs.cloudflare.com/ajax/libs/mathjax/2.7.5/MathJax.js?config=TeX-AMS-MML_SVG\"></script><script type=\"text/javascript\">if (window.MathJax && window.MathJax.Hub && window.MathJax.Hub.Config) {window.MathJax.Hub.Config({SVG: {font: \"STIX-Web\"}});}</script>                <script type=\"text/javascript\">window.PlotlyConfig = {MathJaxConfig: 'local'};</script>\n",
              "        <script src=\"https://cdn.plot.ly/plotly-2.18.2.min.js\"></script>                <div id=\"0365f676-8def-49ff-9917-280a15f1e75b\" class=\"plotly-graph-div\" style=\"height:525px; width:100%;\"></div>            <script type=\"text/javascript\">                                    window.PLOTLYENV=window.PLOTLYENV || {};                                    if (document.getElementById(\"0365f676-8def-49ff-9917-280a15f1e75b\")) {                    Plotly.newPlot(                        \"0365f676-8def-49ff-9917-280a15f1e75b\",                        [{\"cells\":{\"align\":\"left\",\"fill\":{\"color\":\"white\"},\"line\":{\"color\":\"darkslategray\"},\"values\":[[\"nPVI\",\"\",\"rPVI\",\"\",\"%V\",\"\",\"DeltaC\",\"\",\"DeltaV\",\"\",\"VarcoC\",\"\",\"VarcoV\",\"\"],[\"AWS\",\"AWNS\",\"AWS\",\"AWNS\",\"AWS\",\"AWNS\",\"AWS\",\"AWNS\",\"AWS\",\"AWNS\",\"AWS\",\"AWNS\",\"AWS\",\"AWNS\"],[69.4,61.9,0.05,0.05,47.31,42.28,0.045,0.041,0.065,0.049,63.97,61.01,70.15,63.3],[4.61,5.62,0.01,0.01,2.81,2.8,0.006,0.007,0.011,0.013,5.27,4.93,7.47,8.23],[[36,4.38],\"\",[36,1.273],\"\",[36,5.384],\"\",[36,1.788],\"\",[36,4.126],\"\",[36,1.74],\"\",[36,2.615],\"\"],[\"*0.0\",\"\",\"0.212\",\"\",\"*0.0\",\"\",\"0.083\",\"\",\"*0.0\",\"\",\"0.091\",\"\",\"0.013\",\"\"],[1.467,\"\",0.425,\"\",1.795,\"\",0.598,\"\",1.383,\"\",0.58,\"\",0.873,\"\"]]},\"header\":{\"align\":\"left\",\"fill\":{\"color\":\"lightgray\"},\"line\":{\"color\":\"black\"},\"values\":[\"Rhythm Metrics\",\"Group\",\"Mean\",\"SD\",\"df (T-Value)\",\"p-Value\",\"Effect Size\"]},\"type\":\"table\"}],                        {\"template\":{\"data\":{\"histogram2dcontour\":[{\"type\":\"histogram2dcontour\",\"colorbar\":{\"outlinewidth\":0,\"ticks\":\"\"},\"colorscale\":[[0.0,\"#0d0887\"],[0.1111111111111111,\"#46039f\"],[0.2222222222222222,\"#7201a8\"],[0.3333333333333333,\"#9c179e\"],[0.4444444444444444,\"#bd3786\"],[0.5555555555555556,\"#d8576b\"],[0.6666666666666666,\"#ed7953\"],[0.7777777777777778,\"#fb9f3a\"],[0.8888888888888888,\"#fdca26\"],[1.0,\"#f0f921\"]]}],\"choropleth\":[{\"type\":\"choropleth\",\"colorbar\":{\"outlinewidth\":0,\"ticks\":\"\"}}],\"histogram2d\":[{\"type\":\"histogram2d\",\"colorbar\":{\"outlinewidth\":0,\"ticks\":\"\"},\"colorscale\":[[0.0,\"#0d0887\"],[0.1111111111111111,\"#46039f\"],[0.2222222222222222,\"#7201a8\"],[0.3333333333333333,\"#9c179e\"],[0.4444444444444444,\"#bd3786\"],[0.5555555555555556,\"#d8576b\"],[0.6666666666666666,\"#ed7953\"],[0.7777777777777778,\"#fb9f3a\"],[0.8888888888888888,\"#fdca26\"],[1.0,\"#f0f921\"]]}],\"heatmap\":[{\"type\":\"heatmap\",\"colorbar\":{\"outlinewidth\":0,\"ticks\":\"\"},\"colorscale\":[[0.0,\"#0d0887\"],[0.1111111111111111,\"#46039f\"],[0.2222222222222222,\"#7201a8\"],[0.3333333333333333,\"#9c179e\"],[0.4444444444444444,\"#bd3786\"],[0.5555555555555556,\"#d8576b\"],[0.6666666666666666,\"#ed7953\"],[0.7777777777777778,\"#fb9f3a\"],[0.8888888888888888,\"#fdca26\"],[1.0,\"#f0f921\"]]}],\"heatmapgl\":[{\"type\":\"heatmapgl\",\"colorbar\":{\"outlinewidth\":0,\"ticks\":\"\"},\"colorscale\":[[0.0,\"#0d0887\"],[0.1111111111111111,\"#46039f\"],[0.2222222222222222,\"#7201a8\"],[0.3333333333333333,\"#9c179e\"],[0.4444444444444444,\"#bd3786\"],[0.5555555555555556,\"#d8576b\"],[0.6666666666666666,\"#ed7953\"],[0.7777777777777778,\"#fb9f3a\"],[0.8888888888888888,\"#fdca26\"],[1.0,\"#f0f921\"]]}],\"contourcarpet\":[{\"type\":\"contourcarpet\",\"colorbar\":{\"outlinewidth\":0,\"ticks\":\"\"}}],\"contour\":[{\"type\":\"contour\",\"colorbar\":{\"outlinewidth\":0,\"ticks\":\"\"},\"colorscale\":[[0.0,\"#0d0887\"],[0.1111111111111111,\"#46039f\"],[0.2222222222222222,\"#7201a8\"],[0.3333333333333333,\"#9c179e\"],[0.4444444444444444,\"#bd3786\"],[0.5555555555555556,\"#d8576b\"],[0.6666666666666666,\"#ed7953\"],[0.7777777777777778,\"#fb9f3a\"],[0.8888888888888888,\"#fdca26\"],[1.0,\"#f0f921\"]]}],\"surface\":[{\"type\":\"surface\",\"colorbar\":{\"outlinewidth\":0,\"ticks\":\"\"},\"colorscale\":[[0.0,\"#0d0887\"],[0.1111111111111111,\"#46039f\"],[0.2222222222222222,\"#7201a8\"],[0.3333333333333333,\"#9c179e\"],[0.4444444444444444,\"#bd3786\"],[0.5555555555555556,\"#d8576b\"],[0.6666666666666666,\"#ed7953\"],[0.7777777777777778,\"#fb9f3a\"],[0.8888888888888888,\"#fdca26\"],[1.0,\"#f0f921\"]]}],\"mesh3d\":[{\"type\":\"mesh3d\",\"colorbar\":{\"outlinewidth\":0,\"ticks\":\"\"}}],\"scatter\":[{\"fillpattern\":{\"fillmode\":\"overlay\",\"size\":10,\"solidity\":0.2},\"type\":\"scatter\"}],\"parcoords\":[{\"type\":\"parcoords\",\"line\":{\"colorbar\":{\"outlinewidth\":0,\"ticks\":\"\"}}}],\"scatterpolargl\":[{\"type\":\"scatterpolargl\",\"marker\":{\"colorbar\":{\"outlinewidth\":0,\"ticks\":\"\"}}}],\"bar\":[{\"error_x\":{\"color\":\"#2a3f5f\"},\"error_y\":{\"color\":\"#2a3f5f\"},\"marker\":{\"line\":{\"color\":\"#E5ECF6\",\"width\":0.5},\"pattern\":{\"fillmode\":\"overlay\",\"size\":10,\"solidity\":0.2}},\"type\":\"bar\"}],\"scattergeo\":[{\"type\":\"scattergeo\",\"marker\":{\"colorbar\":{\"outlinewidth\":0,\"ticks\":\"\"}}}],\"scatterpolar\":[{\"type\":\"scatterpolar\",\"marker\":{\"colorbar\":{\"outlinewidth\":0,\"ticks\":\"\"}}}],\"histogram\":[{\"marker\":{\"pattern\":{\"fillmode\":\"overlay\",\"size\":10,\"solidity\":0.2}},\"type\":\"histogram\"}],\"scattergl\":[{\"type\":\"scattergl\",\"marker\":{\"colorbar\":{\"outlinewidth\":0,\"ticks\":\"\"}}}],\"scatter3d\":[{\"type\":\"scatter3d\",\"line\":{\"colorbar\":{\"outlinewidth\":0,\"ticks\":\"\"}},\"marker\":{\"colorbar\":{\"outlinewidth\":0,\"ticks\":\"\"}}}],\"scattermapbox\":[{\"type\":\"scattermapbox\",\"marker\":{\"colorbar\":{\"outlinewidth\":0,\"ticks\":\"\"}}}],\"scatterternary\":[{\"type\":\"scatterternary\",\"marker\":{\"colorbar\":{\"outlinewidth\":0,\"ticks\":\"\"}}}],\"scattercarpet\":[{\"type\":\"scattercarpet\",\"marker\":{\"colorbar\":{\"outlinewidth\":0,\"ticks\":\"\"}}}],\"carpet\":[{\"aaxis\":{\"endlinecolor\":\"#2a3f5f\",\"gridcolor\":\"white\",\"linecolor\":\"white\",\"minorgridcolor\":\"white\",\"startlinecolor\":\"#2a3f5f\"},\"baxis\":{\"endlinecolor\":\"#2a3f5f\",\"gridcolor\":\"white\",\"linecolor\":\"white\",\"minorgridcolor\":\"white\",\"startlinecolor\":\"#2a3f5f\"},\"type\":\"carpet\"}],\"table\":[{\"cells\":{\"fill\":{\"color\":\"#EBF0F8\"},\"line\":{\"color\":\"white\"}},\"header\":{\"fill\":{\"color\":\"#C8D4E3\"},\"line\":{\"color\":\"white\"}},\"type\":\"table\"}],\"barpolar\":[{\"marker\":{\"line\":{\"color\":\"#E5ECF6\",\"width\":0.5},\"pattern\":{\"fillmode\":\"overlay\",\"size\":10,\"solidity\":0.2}},\"type\":\"barpolar\"}],\"pie\":[{\"automargin\":true,\"type\":\"pie\"}]},\"layout\":{\"autotypenumbers\":\"strict\",\"colorway\":[\"#636efa\",\"#EF553B\",\"#00cc96\",\"#ab63fa\",\"#FFA15A\",\"#19d3f3\",\"#FF6692\",\"#B6E880\",\"#FF97FF\",\"#FECB52\"],\"font\":{\"color\":\"#2a3f5f\"},\"hovermode\":\"closest\",\"hoverlabel\":{\"align\":\"left\"},\"paper_bgcolor\":\"white\",\"plot_bgcolor\":\"#E5ECF6\",\"polar\":{\"bgcolor\":\"#E5ECF6\",\"angularaxis\":{\"gridcolor\":\"white\",\"linecolor\":\"white\",\"ticks\":\"\"},\"radialaxis\":{\"gridcolor\":\"white\",\"linecolor\":\"white\",\"ticks\":\"\"}},\"ternary\":{\"bgcolor\":\"#E5ECF6\",\"aaxis\":{\"gridcolor\":\"white\",\"linecolor\":\"white\",\"ticks\":\"\"},\"baxis\":{\"gridcolor\":\"white\",\"linecolor\":\"white\",\"ticks\":\"\"},\"caxis\":{\"gridcolor\":\"white\",\"linecolor\":\"white\",\"ticks\":\"\"}},\"coloraxis\":{\"colorbar\":{\"outlinewidth\":0,\"ticks\":\"\"}},\"colorscale\":{\"sequential\":[[0.0,\"#0d0887\"],[0.1111111111111111,\"#46039f\"],[0.2222222222222222,\"#7201a8\"],[0.3333333333333333,\"#9c179e\"],[0.4444444444444444,\"#bd3786\"],[0.5555555555555556,\"#d8576b\"],[0.6666666666666666,\"#ed7953\"],[0.7777777777777778,\"#fb9f3a\"],[0.8888888888888888,\"#fdca26\"],[1.0,\"#f0f921\"]],\"sequentialminus\":[[0.0,\"#0d0887\"],[0.1111111111111111,\"#46039f\"],[0.2222222222222222,\"#7201a8\"],[0.3333333333333333,\"#9c179e\"],[0.4444444444444444,\"#bd3786\"],[0.5555555555555556,\"#d8576b\"],[0.6666666666666666,\"#ed7953\"],[0.7777777777777778,\"#fb9f3a\"],[0.8888888888888888,\"#fdca26\"],[1.0,\"#f0f921\"]],\"diverging\":[[0,\"#8e0152\"],[0.1,\"#c51b7d\"],[0.2,\"#de77ae\"],[0.3,\"#f1b6da\"],[0.4,\"#fde0ef\"],[0.5,\"#f7f7f7\"],[0.6,\"#e6f5d0\"],[0.7,\"#b8e186\"],[0.8,\"#7fbc41\"],[0.9,\"#4d9221\"],[1,\"#276419\"]]},\"xaxis\":{\"gridcolor\":\"white\",\"linecolor\":\"white\",\"ticks\":\"\",\"title\":{\"standoff\":15},\"zerolinecolor\":\"white\",\"automargin\":true,\"zerolinewidth\":2},\"yaxis\":{\"gridcolor\":\"white\",\"linecolor\":\"white\",\"ticks\":\"\",\"title\":{\"standoff\":15},\"zerolinecolor\":\"white\",\"automargin\":true,\"zerolinewidth\":2},\"scene\":{\"xaxis\":{\"backgroundcolor\":\"#E5ECF6\",\"gridcolor\":\"white\",\"linecolor\":\"white\",\"showbackground\":true,\"ticks\":\"\",\"zerolinecolor\":\"white\",\"gridwidth\":2},\"yaxis\":{\"backgroundcolor\":\"#E5ECF6\",\"gridcolor\":\"white\",\"linecolor\":\"white\",\"showbackground\":true,\"ticks\":\"\",\"zerolinecolor\":\"white\",\"gridwidth\":2},\"zaxis\":{\"backgroundcolor\":\"#E5ECF6\",\"gridcolor\":\"white\",\"linecolor\":\"white\",\"showbackground\":true,\"ticks\":\"\",\"zerolinecolor\":\"white\",\"gridwidth\":2}},\"shapedefaults\":{\"line\":{\"color\":\"#2a3f5f\"}},\"annotationdefaults\":{\"arrowcolor\":\"#2a3f5f\",\"arrowhead\":0,\"arrowwidth\":1},\"geo\":{\"bgcolor\":\"white\",\"landcolor\":\"#E5ECF6\",\"subunitcolor\":\"white\",\"showland\":true,\"showlakes\":true,\"lakecolor\":\"white\"},\"title\":{\"x\":0.05},\"mapbox\":{\"style\":\"light\"}}}},                        {\"responsive\": true}                    ).then(function(){\n",
              "                            \n",
              "var gd = document.getElementById('0365f676-8def-49ff-9917-280a15f1e75b');\n",
              "var x = new MutationObserver(function (mutations, observer) {{\n",
              "        var display = window.getComputedStyle(gd).display;\n",
              "        if (!display || display === 'none') {{\n",
              "            console.log([gd, 'removed!']);\n",
              "            Plotly.purge(gd);\n",
              "            observer.disconnect();\n",
              "        }}\n",
              "}});\n",
              "\n",
              "// Listen for the removal of the full notebook cells\n",
              "var notebookContainer = gd.closest('#notebook-container');\n",
              "if (notebookContainer) {{\n",
              "    x.observe(notebookContainer, {childList: true});\n",
              "}}\n",
              "\n",
              "// Listen for the clearing of the current output cell\n",
              "var outputEl = gd.closest('.output');\n",
              "if (outputEl) {{\n",
              "    x.observe(outputEl, {childList: true});\n",
              "}}\n",
              "\n",
              "                        })                };                            </script>        </div>\n",
              "</body>\n",
              "</html>"
            ]
          },
          "metadata": {},
          "output_type": "display_data"
        }
      ],
      "source": [
        "fig.show()"
      ]
    },
    {
      "cell_type": "code",
      "execution_count": null,
      "metadata": {
        "id": "ajZBjCF0pBYq"
      },
      "outputs": [],
      "source": [
        "fig.write_image(\"groups_frog_results.png\")"
      ]
    },
    {
      "cell_type": "markdown",
      "metadata": {
        "id": "JzBXBpWSpY6Z"
      },
      "source": [
        "# **II. Compare Utterance Types: Fluent vs. Disfluent (PWS)**"
      ]
    },
    {
      "cell_type": "markdown",
      "source": [
        "**0. Import**"
      ],
      "metadata": {
        "id": "nC8HB6amRzBG"
      }
    },
    {
      "cell_type": "code",
      "source": [
        "# Non-Fluent vs. Fluent (PWS)\n",
        "reading_fluent = pd.read_excel(\"result_reading_fluent.xlsx\")\n",
        "reading_fluent.drop(['Unnamed: 0'], axis=1 , inplace = True)\n",
        "frog_fluent = pd.read_excel(\"result_frog_fluent.xlsx\")\n",
        "frog_fluent.drop(['Unnamed: 0'], axis=1 , inplace = True)\n",
        "reading_disfluent = pd.read_excel(\"result_reading_disfluent.xlsx\")\n",
        "reading_disfluent.drop(['Unnamed: 0'], axis=1 , inplace = True)\n",
        "frog_disfluent = pd.read_excel(\"result_frog_disfluent.xlsx\")\n",
        "frog_disfluent.drop(['Unnamed: 0'], axis=1 , inplace = True)"
      ],
      "metadata": {
        "id": "M8_r14U-RyQy"
      },
      "execution_count": null,
      "outputs": []
    },
    {
      "cell_type": "markdown",
      "metadata": {
        "id": "vz0cspe4pidU"
      },
      "source": [
        "**1. Reading**"
      ]
    },
    {
      "cell_type": "code",
      "execution_count": null,
      "metadata": {
        "id": "8VG-fI_tplI_"
      },
      "outputs": [],
      "source": [
        "# t-tests\n",
        "[tstats_nPVI_r, pvalue_nPVI_r] = stats.ttest_ind(reading_fluent[\"nPVI\"], reading_disfluent[\"nPVI\"], equal_var=False, nan_policy=\"omit\")\n",
        "[tstats_rPVI_r, pvalue_rPVI_r] = stats.ttest_ind(reading_fluent[\"rPVI\"], reading_disfluent[\"rPVI\"], equal_var=False, nan_policy=\"omit\")\n",
        "[tstats_PercV_r, pvalue_PercV_r] = stats.ttest_ind(reading_fluent[\"%V\"], reading_disfluent[\"%V\"], equal_var=False, nan_policy=\"omit\")\n",
        "[tstats_DeltaC_r, pvalue_DeltaC_r] = stats.ttest_ind(reading_fluent[\"DeltaC\"], reading_disfluent[\"DeltaC\"], equal_var=False, nan_policy=\"omit\")\n",
        "[tstats_DeltaV_r, pvalue_DeltaV_r] = stats.ttest_ind(reading_fluent[\"DeltaV\"], reading_disfluent[\"DeltaV\"], equal_var=False, nan_policy=\"omit\")\n",
        "[tstats_VarcoC_r, pvalue_VarcoC_r] = stats.ttest_ind(reading_fluent[\"VarcoC\"], reading_disfluent[\"VarcoC\"], equal_var=False, nan_policy=\"omit\")\n",
        "[tstats_VarcoV_r, pvalue_VarcoV_r] = stats.ttest_ind(reading_fluent[\"VarcoV\"], reading_disfluent[\"VarcoV\"], equal_var=False, nan_policy=\"omit\")"
      ]
    },
    {
      "cell_type": "code",
      "execution_count": null,
      "metadata": {
        "id": "pkNFyP_RplFk"
      },
      "outputs": [],
      "source": [
        "# degrees of freedom\n",
        "dof = (len(reading_fluent)+len(reading_disfluent)-2)\n",
        "df_reading = (len(reading_fluent)+len(reading_disfluent))"
      ]
    },
    {
      "cell_type": "code",
      "execution_count": null,
      "metadata": {
        "id": "gi7_si-EplDM"
      },
      "outputs": [],
      "source": [
        "cohens_d_nPVI_r = abs(reading_fluent.mean()[0]-reading_disfluent.mean()[0])/(((np.sqrt((len(reading_fluent)-1) * reading_fluent.std()[0])**2) + (np.sqrt((len(reading_disfluent)-1) * reading_disfluent.std()[0])**2))/dof)\n",
        "cohens_d_rPVI_r = abs(reading_fluent.mean()[1]-reading_disfluent.mean()[1])/(((np.sqrt((len(reading_fluent)-1) * reading_fluent.std()[1])**2) + (np.sqrt((len(reading_disfluent)-1) * reading_disfluent.std()[1])**2))/dof)\n",
        "cohens_d_PercV_r = abs(reading_fluent.mean()[2]-reading_disfluent.mean()[2])/(((np.sqrt((len(reading_fluent)-1) * reading_fluent.std()[2])**2) + (np.sqrt((len(reading_disfluent)-1) * reading_disfluent.std()[2])**2))/dof)\n",
        "cohens_d_DeltaC_r = abs(reading_fluent.mean()[3]-reading_disfluent.mean()[3])/(((np.sqrt((len(reading_fluent)-1) * reading_fluent.std()[3])**2) + (np.sqrt((len(reading_disfluent)-1) * reading_disfluent.std()[3])**2))/dof)\n",
        "cohens_d_DeltaV_r = abs(reading_fluent.mean()[4]-reading_disfluent.mean()[4])/(((np.sqrt((len(reading_fluent)-1) * reading_fluent.std()[4])**2) + (np.sqrt((len(reading_disfluent)-1) * reading_disfluent.std()[4])**2))/dof)\n",
        "cohens_d_VarcoC_r = abs(reading_fluent.mean()[5]-reading_disfluent.mean()[5])/(((np.sqrt((len(reading_fluent)-1) * reading_fluent.std()[5])**2) + (np.sqrt((len(reading_disfluent)-1) * reading_disfluent.std()[5])**2))/dof)\n",
        "cohens_d_VarcoV_r = abs(reading_fluent.mean()[6]-reading_disfluent.mean()[6])/(((np.sqrt((len(reading_fluent)-1) * reading_fluent.std()[6])**2) + (np.sqrt((len(reading_disfluent)-1) * reading_disfluent.std()[6])**2))/dof)"
      ]
    },
    {
      "cell_type": "code",
      "execution_count": null,
      "metadata": {
        "id": "42YUTGPEplAZ"
      },
      "outputs": [],
      "source": [
        "means = [reading_fluent.mean()[0], reading_disfluent.mean()[0], reading_fluent.mean()[1],reading_disfluent.mean()[1],reading_fluent.mean()[2], reading_disfluent.mean()[2], reading_fluent.mean()[3],reading_disfluent.mean()[3], reading_fluent.mean()[4],reading_disfluent.mean()[4], reading_fluent.mean()[5],reading_disfluent.mean()[5],reading_fluent.mean()[6], reading_disfluent.mean()[6]]\n",
        "sds = [reading_fluent.std()[0], reading_disfluent.std()[0], reading_fluent.std()[1],reading_disfluent.std()[1],reading_fluent.std()[2], reading_disfluent.std()[2], reading_fluent.std()[3],reading_disfluent.std()[3], reading_fluent.std()[4],reading_disfluent.std()[4], reading_fluent.std()[5],reading_disfluent.std()[5],reading_fluent.std()[6], reading_disfluent.std()[6]]"
      ]
    },
    {
      "cell_type": "code",
      "execution_count": null,
      "metadata": {
        "id": "iofZ3uE8pk9-"
      },
      "outputs": [],
      "source": [
        "p_vals = [pvalue_nPVI_r, pvalue_rPVI_r, pvalue_PercV_r, pvalue_DeltaC_r, pvalue_DeltaV_r, pvalue_VarcoC_r, pvalue_VarcoV_r]\n",
        "bc = 0.05/7         # bonferroni correction of dependent comparisons\n",
        "for p in range(0, len(p_vals)):\n",
        "  if p_vals[p] < bc:\n",
        "    p_vals[p] = '*' + str(round(p_vals[p],3))\n",
        "  else:\n",
        "    p_vals[p] = str(round(p_vals[p],3))"
      ]
    },
    {
      "cell_type": "code",
      "execution_count": null,
      "metadata": {
        "id": "8pyZkLdlpk7U"
      },
      "outputs": [],
      "source": [
        "fig = go.Figure(data=[go.Table(\n",
        "    header=dict(values=['Rhythm Metrics', 'FluencyStatus', 'Mean','SD', 'df (T-Value)', 'p-Value', 'Effect Size'],\n",
        "                line_color='black',\n",
        "                fill_color='lightgray',\n",
        "                align='left'),\n",
        "    cells=dict(values=[[\"nPVI\",\"\", \"rPVI\", \"\",\"%V\", \"\",\"DeltaC\", \"\",\"DeltaV\",\"\", \"VarcoC\",\"\", \"VarcoV\",\"\"], # 1st column\n",
        "                      [\"Fluent\", \"Non-Fluent\", \"Fluent\", \"Non-Fluent\", \"Fluent\", \"Non-Fluent\", \"Fluent\", \"Non-Fluent\", \"Fluent\", \"Non-Fluent\", \"Fluent\", \"Non-Fluent\", \"Fluent\", \"Non-Fluent\"],\n",
        "                      [round(means[0],2),round(means[1],2),round(means[2],2),round(means[3],2),round(means[4],2),round(means[5],2),round(means[6],3),round(means[7],3),round(means[8],3),round(means[9],3),round(means[10],2),round(means[11],2),round(means[12],2),round(means[13],2) ],\n",
        "                       [round(sds[0],2),round(sds[1],2),round(sds[2],2),round(sds[3],2),round(sds[4],2),round(sds[5],2),round(sds[6],3),round(sds[7],3),round(sds[8],3),round(sds[9],3),round(sds[10],2),round(sds[11],2),round(sds[12],2),round(sds[13],2) ],\n",
        "                       [[df_reading, round(tstats_nPVI_r,3)],\"\", [df_reading, round(tstats_rPVI_r,3)], \"\",[df_reading, round(tstats_PercV_r,3)],\"\", [df_reading, round(tstats_DeltaC_r,3)],\"\", [df_reading, round(tstats_DeltaV_r,3)],\"\", [df_reading, round(tstats_VarcoC_r,3)],\"\", [df_reading, round(tstats_VarcoV_r,3)], \"\"],\n",
        "                       [p_vals[0],\"\", p_vals[1], \"\",p_vals[2],\"\", p_vals[3],\"\", p_vals[4],\"\", p_vals[5],\"\", p_vals[6], \"\"],\n",
        "                       [round(cohens_d_nPVI_r,3),\"\", round(cohens_d_rPVI_r,3), \"\",round(cohens_d_PercV_r,3),\"\", round(cohens_d_DeltaC_r,3),\"\", round(cohens_d_DeltaV_r,3),\"\", round(cohens_d_VarcoC_r,3),\"\", round(cohens_d_VarcoV_r,3), \"\"]], # 2nd column\n",
        "               line_color='darkslategray',\n",
        "               fill_color='white',\n",
        "               align='left'))\n",
        "])"
      ]
    },
    {
      "cell_type": "code",
      "execution_count": null,
      "metadata": {
        "colab": {
          "base_uri": "https://localhost:8080/",
          "height": 542
        },
        "id": "YUp3kDNSp6fA",
        "outputId": "8de89efa-5908-42f1-bd0e-4fc2a715b87a"
      },
      "outputs": [
        {
          "data": {
            "text/html": [
              "<html>\n",
              "<head><meta charset=\"utf-8\" /></head>\n",
              "<body>\n",
              "    <div>            <script src=\"https://cdnjs.cloudflare.com/ajax/libs/mathjax/2.7.5/MathJax.js?config=TeX-AMS-MML_SVG\"></script><script type=\"text/javascript\">if (window.MathJax && window.MathJax.Hub && window.MathJax.Hub.Config) {window.MathJax.Hub.Config({SVG: {font: \"STIX-Web\"}});}</script>                <script type=\"text/javascript\">window.PlotlyConfig = {MathJaxConfig: 'local'};</script>\n",
              "        <script src=\"https://cdn.plot.ly/plotly-2.18.2.min.js\"></script>                <div id=\"eefaeed4-5102-4b3e-8959-842f6e4e801a\" class=\"plotly-graph-div\" style=\"height:525px; width:100%;\"></div>            <script type=\"text/javascript\">                                    window.PLOTLYENV=window.PLOTLYENV || {};                                    if (document.getElementById(\"eefaeed4-5102-4b3e-8959-842f6e4e801a\")) {                    Plotly.newPlot(                        \"eefaeed4-5102-4b3e-8959-842f6e4e801a\",                        [{\"cells\":{\"align\":\"left\",\"fill\":{\"color\":\"white\"},\"line\":{\"color\":\"darkslategray\"},\"values\":[[\"nPVI\",\"\",\"rPVI\",\"\",\"%V\",\"\",\"DeltaC\",\"\",\"DeltaV\",\"\",\"VarcoC\",\"\",\"VarcoV\",\"\"],[\"Fluent\",\"Non-Fluent\",\"Fluent\",\"Non-Fluent\",\"Fluent\",\"Non-Fluent\",\"Fluent\",\"Non-Fluent\",\"Fluent\",\"Non-Fluent\",\"Fluent\",\"Non-Fluent\",\"Fluent\",\"Non-Fluent\"],[66.26,64.42,0.05,0.05,41.66,46.52,0.035,0.04,0.039,0.048,51.5,55.18,49.96,54.16],[6.26,15.66,0.01,0.01,3.9,7.16,0.007,0.013,0.01,0.017,9.71,11.03,13.4,18.68],[[36,0.451],\"\",[36,-0.557],\"\",[36,-2.472],\"\",[36,-1.228],\"\",[36,-1.835],\"\",[36,-1.045],\"\",[36,-0.761],\"\"],[\"0.656\",\"\",\"0.582\",\"\",\"0.021\",\"\",\"0.231\",\"\",\"0.078\",\"\",\"0.304\",\"\",\"0.453\",\"\"],[0.168,\"\",0.196,\"\",0.878,\"\",0.439,\"\",0.647,\"\",0.355,\"\",0.262,\"\"]]},\"header\":{\"align\":\"left\",\"fill\":{\"color\":\"lightgray\"},\"line\":{\"color\":\"black\"},\"values\":[\"Rhythm Metrics\",\"FluencyStatus\",\"Mean\",\"SD\",\"df (T-Value)\",\"p-Value\",\"Effect Size\"]},\"type\":\"table\"}],                        {\"template\":{\"data\":{\"histogram2dcontour\":[{\"type\":\"histogram2dcontour\",\"colorbar\":{\"outlinewidth\":0,\"ticks\":\"\"},\"colorscale\":[[0.0,\"#0d0887\"],[0.1111111111111111,\"#46039f\"],[0.2222222222222222,\"#7201a8\"],[0.3333333333333333,\"#9c179e\"],[0.4444444444444444,\"#bd3786\"],[0.5555555555555556,\"#d8576b\"],[0.6666666666666666,\"#ed7953\"],[0.7777777777777778,\"#fb9f3a\"],[0.8888888888888888,\"#fdca26\"],[1.0,\"#f0f921\"]]}],\"choropleth\":[{\"type\":\"choropleth\",\"colorbar\":{\"outlinewidth\":0,\"ticks\":\"\"}}],\"histogram2d\":[{\"type\":\"histogram2d\",\"colorbar\":{\"outlinewidth\":0,\"ticks\":\"\"},\"colorscale\":[[0.0,\"#0d0887\"],[0.1111111111111111,\"#46039f\"],[0.2222222222222222,\"#7201a8\"],[0.3333333333333333,\"#9c179e\"],[0.4444444444444444,\"#bd3786\"],[0.5555555555555556,\"#d8576b\"],[0.6666666666666666,\"#ed7953\"],[0.7777777777777778,\"#fb9f3a\"],[0.8888888888888888,\"#fdca26\"],[1.0,\"#f0f921\"]]}],\"heatmap\":[{\"type\":\"heatmap\",\"colorbar\":{\"outlinewidth\":0,\"ticks\":\"\"},\"colorscale\":[[0.0,\"#0d0887\"],[0.1111111111111111,\"#46039f\"],[0.2222222222222222,\"#7201a8\"],[0.3333333333333333,\"#9c179e\"],[0.4444444444444444,\"#bd3786\"],[0.5555555555555556,\"#d8576b\"],[0.6666666666666666,\"#ed7953\"],[0.7777777777777778,\"#fb9f3a\"],[0.8888888888888888,\"#fdca26\"],[1.0,\"#f0f921\"]]}],\"heatmapgl\":[{\"type\":\"heatmapgl\",\"colorbar\":{\"outlinewidth\":0,\"ticks\":\"\"},\"colorscale\":[[0.0,\"#0d0887\"],[0.1111111111111111,\"#46039f\"],[0.2222222222222222,\"#7201a8\"],[0.3333333333333333,\"#9c179e\"],[0.4444444444444444,\"#bd3786\"],[0.5555555555555556,\"#d8576b\"],[0.6666666666666666,\"#ed7953\"],[0.7777777777777778,\"#fb9f3a\"],[0.8888888888888888,\"#fdca26\"],[1.0,\"#f0f921\"]]}],\"contourcarpet\":[{\"type\":\"contourcarpet\",\"colorbar\":{\"outlinewidth\":0,\"ticks\":\"\"}}],\"contour\":[{\"type\":\"contour\",\"colorbar\":{\"outlinewidth\":0,\"ticks\":\"\"},\"colorscale\":[[0.0,\"#0d0887\"],[0.1111111111111111,\"#46039f\"],[0.2222222222222222,\"#7201a8\"],[0.3333333333333333,\"#9c179e\"],[0.4444444444444444,\"#bd3786\"],[0.5555555555555556,\"#d8576b\"],[0.6666666666666666,\"#ed7953\"],[0.7777777777777778,\"#fb9f3a\"],[0.8888888888888888,\"#fdca26\"],[1.0,\"#f0f921\"]]}],\"surface\":[{\"type\":\"surface\",\"colorbar\":{\"outlinewidth\":0,\"ticks\":\"\"},\"colorscale\":[[0.0,\"#0d0887\"],[0.1111111111111111,\"#46039f\"],[0.2222222222222222,\"#7201a8\"],[0.3333333333333333,\"#9c179e\"],[0.4444444444444444,\"#bd3786\"],[0.5555555555555556,\"#d8576b\"],[0.6666666666666666,\"#ed7953\"],[0.7777777777777778,\"#fb9f3a\"],[0.8888888888888888,\"#fdca26\"],[1.0,\"#f0f921\"]]}],\"mesh3d\":[{\"type\":\"mesh3d\",\"colorbar\":{\"outlinewidth\":0,\"ticks\":\"\"}}],\"scatter\":[{\"fillpattern\":{\"fillmode\":\"overlay\",\"size\":10,\"solidity\":0.2},\"type\":\"scatter\"}],\"parcoords\":[{\"type\":\"parcoords\",\"line\":{\"colorbar\":{\"outlinewidth\":0,\"ticks\":\"\"}}}],\"scatterpolargl\":[{\"type\":\"scatterpolargl\",\"marker\":{\"colorbar\":{\"outlinewidth\":0,\"ticks\":\"\"}}}],\"bar\":[{\"error_x\":{\"color\":\"#2a3f5f\"},\"error_y\":{\"color\":\"#2a3f5f\"},\"marker\":{\"line\":{\"color\":\"#E5ECF6\",\"width\":0.5},\"pattern\":{\"fillmode\":\"overlay\",\"size\":10,\"solidity\":0.2}},\"type\":\"bar\"}],\"scattergeo\":[{\"type\":\"scattergeo\",\"marker\":{\"colorbar\":{\"outlinewidth\":0,\"ticks\":\"\"}}}],\"scatterpolar\":[{\"type\":\"scatterpolar\",\"marker\":{\"colorbar\":{\"outlinewidth\":0,\"ticks\":\"\"}}}],\"histogram\":[{\"marker\":{\"pattern\":{\"fillmode\":\"overlay\",\"size\":10,\"solidity\":0.2}},\"type\":\"histogram\"}],\"scattergl\":[{\"type\":\"scattergl\",\"marker\":{\"colorbar\":{\"outlinewidth\":0,\"ticks\":\"\"}}}],\"scatter3d\":[{\"type\":\"scatter3d\",\"line\":{\"colorbar\":{\"outlinewidth\":0,\"ticks\":\"\"}},\"marker\":{\"colorbar\":{\"outlinewidth\":0,\"ticks\":\"\"}}}],\"scattermapbox\":[{\"type\":\"scattermapbox\",\"marker\":{\"colorbar\":{\"outlinewidth\":0,\"ticks\":\"\"}}}],\"scatterternary\":[{\"type\":\"scatterternary\",\"marker\":{\"colorbar\":{\"outlinewidth\":0,\"ticks\":\"\"}}}],\"scattercarpet\":[{\"type\":\"scattercarpet\",\"marker\":{\"colorbar\":{\"outlinewidth\":0,\"ticks\":\"\"}}}],\"carpet\":[{\"aaxis\":{\"endlinecolor\":\"#2a3f5f\",\"gridcolor\":\"white\",\"linecolor\":\"white\",\"minorgridcolor\":\"white\",\"startlinecolor\":\"#2a3f5f\"},\"baxis\":{\"endlinecolor\":\"#2a3f5f\",\"gridcolor\":\"white\",\"linecolor\":\"white\",\"minorgridcolor\":\"white\",\"startlinecolor\":\"#2a3f5f\"},\"type\":\"carpet\"}],\"table\":[{\"cells\":{\"fill\":{\"color\":\"#EBF0F8\"},\"line\":{\"color\":\"white\"}},\"header\":{\"fill\":{\"color\":\"#C8D4E3\"},\"line\":{\"color\":\"white\"}},\"type\":\"table\"}],\"barpolar\":[{\"marker\":{\"line\":{\"color\":\"#E5ECF6\",\"width\":0.5},\"pattern\":{\"fillmode\":\"overlay\",\"size\":10,\"solidity\":0.2}},\"type\":\"barpolar\"}],\"pie\":[{\"automargin\":true,\"type\":\"pie\"}]},\"layout\":{\"autotypenumbers\":\"strict\",\"colorway\":[\"#636efa\",\"#EF553B\",\"#00cc96\",\"#ab63fa\",\"#FFA15A\",\"#19d3f3\",\"#FF6692\",\"#B6E880\",\"#FF97FF\",\"#FECB52\"],\"font\":{\"color\":\"#2a3f5f\"},\"hovermode\":\"closest\",\"hoverlabel\":{\"align\":\"left\"},\"paper_bgcolor\":\"white\",\"plot_bgcolor\":\"#E5ECF6\",\"polar\":{\"bgcolor\":\"#E5ECF6\",\"angularaxis\":{\"gridcolor\":\"white\",\"linecolor\":\"white\",\"ticks\":\"\"},\"radialaxis\":{\"gridcolor\":\"white\",\"linecolor\":\"white\",\"ticks\":\"\"}},\"ternary\":{\"bgcolor\":\"#E5ECF6\",\"aaxis\":{\"gridcolor\":\"white\",\"linecolor\":\"white\",\"ticks\":\"\"},\"baxis\":{\"gridcolor\":\"white\",\"linecolor\":\"white\",\"ticks\":\"\"},\"caxis\":{\"gridcolor\":\"white\",\"linecolor\":\"white\",\"ticks\":\"\"}},\"coloraxis\":{\"colorbar\":{\"outlinewidth\":0,\"ticks\":\"\"}},\"colorscale\":{\"sequential\":[[0.0,\"#0d0887\"],[0.1111111111111111,\"#46039f\"],[0.2222222222222222,\"#7201a8\"],[0.3333333333333333,\"#9c179e\"],[0.4444444444444444,\"#bd3786\"],[0.5555555555555556,\"#d8576b\"],[0.6666666666666666,\"#ed7953\"],[0.7777777777777778,\"#fb9f3a\"],[0.8888888888888888,\"#fdca26\"],[1.0,\"#f0f921\"]],\"sequentialminus\":[[0.0,\"#0d0887\"],[0.1111111111111111,\"#46039f\"],[0.2222222222222222,\"#7201a8\"],[0.3333333333333333,\"#9c179e\"],[0.4444444444444444,\"#bd3786\"],[0.5555555555555556,\"#d8576b\"],[0.6666666666666666,\"#ed7953\"],[0.7777777777777778,\"#fb9f3a\"],[0.8888888888888888,\"#fdca26\"],[1.0,\"#f0f921\"]],\"diverging\":[[0,\"#8e0152\"],[0.1,\"#c51b7d\"],[0.2,\"#de77ae\"],[0.3,\"#f1b6da\"],[0.4,\"#fde0ef\"],[0.5,\"#f7f7f7\"],[0.6,\"#e6f5d0\"],[0.7,\"#b8e186\"],[0.8,\"#7fbc41\"],[0.9,\"#4d9221\"],[1,\"#276419\"]]},\"xaxis\":{\"gridcolor\":\"white\",\"linecolor\":\"white\",\"ticks\":\"\",\"title\":{\"standoff\":15},\"zerolinecolor\":\"white\",\"automargin\":true,\"zerolinewidth\":2},\"yaxis\":{\"gridcolor\":\"white\",\"linecolor\":\"white\",\"ticks\":\"\",\"title\":{\"standoff\":15},\"zerolinecolor\":\"white\",\"automargin\":true,\"zerolinewidth\":2},\"scene\":{\"xaxis\":{\"backgroundcolor\":\"#E5ECF6\",\"gridcolor\":\"white\",\"linecolor\":\"white\",\"showbackground\":true,\"ticks\":\"\",\"zerolinecolor\":\"white\",\"gridwidth\":2},\"yaxis\":{\"backgroundcolor\":\"#E5ECF6\",\"gridcolor\":\"white\",\"linecolor\":\"white\",\"showbackground\":true,\"ticks\":\"\",\"zerolinecolor\":\"white\",\"gridwidth\":2},\"zaxis\":{\"backgroundcolor\":\"#E5ECF6\",\"gridcolor\":\"white\",\"linecolor\":\"white\",\"showbackground\":true,\"ticks\":\"\",\"zerolinecolor\":\"white\",\"gridwidth\":2}},\"shapedefaults\":{\"line\":{\"color\":\"#2a3f5f\"}},\"annotationdefaults\":{\"arrowcolor\":\"#2a3f5f\",\"arrowhead\":0,\"arrowwidth\":1},\"geo\":{\"bgcolor\":\"white\",\"landcolor\":\"#E5ECF6\",\"subunitcolor\":\"white\",\"showland\":true,\"showlakes\":true,\"lakecolor\":\"white\"},\"title\":{\"x\":0.05},\"mapbox\":{\"style\":\"light\"}}}},                        {\"responsive\": true}                    ).then(function(){\n",
              "                            \n",
              "var gd = document.getElementById('eefaeed4-5102-4b3e-8959-842f6e4e801a');\n",
              "var x = new MutationObserver(function (mutations, observer) {{\n",
              "        var display = window.getComputedStyle(gd).display;\n",
              "        if (!display || display === 'none') {{\n",
              "            console.log([gd, 'removed!']);\n",
              "            Plotly.purge(gd);\n",
              "            observer.disconnect();\n",
              "        }}\n",
              "}});\n",
              "\n",
              "// Listen for the removal of the full notebook cells\n",
              "var notebookContainer = gd.closest('#notebook-container');\n",
              "if (notebookContainer) {{\n",
              "    x.observe(notebookContainer, {childList: true});\n",
              "}}\n",
              "\n",
              "// Listen for the clearing of the current output cell\n",
              "var outputEl = gd.closest('.output');\n",
              "if (outputEl) {{\n",
              "    x.observe(outputEl, {childList: true});\n",
              "}}\n",
              "\n",
              "                        })                };                            </script>        </div>\n",
              "</body>\n",
              "</html>"
            ]
          },
          "metadata": {},
          "output_type": "display_data"
        }
      ],
      "source": [
        "fig.show()"
      ]
    },
    {
      "cell_type": "code",
      "execution_count": null,
      "metadata": {
        "id": "cwaOzv9kp6YN"
      },
      "outputs": [],
      "source": [
        "fig.write_image(\"utteranceType_reading_results.png\")"
      ]
    },
    {
      "cell_type": "markdown",
      "metadata": {
        "id": "qkXL2VHHqzfe"
      },
      "source": [
        "**2. Interview**"
      ]
    },
    {
      "cell_type": "code",
      "execution_count": null,
      "metadata": {
        "id": "SiAmbcYcrC9B"
      },
      "outputs": [],
      "source": [
        "# t-tests\n",
        "[tstats_nPVI_i, pvalue_nPVI_i] = stats.ttest_ind(frog_fluent[\"nPVI\"], frog_disfluent[\"nPVI\"], equal_var=False, nan_policy= \"omit\")\n",
        "[tstats_rPVI_i, pvalue_rPVI_i] = stats.ttest_ind(frog_fluent[\"rPVI\"], frog_disfluent[\"rPVI\"], equal_var=False, nan_policy= \"omit\")\n",
        "[tstats_PercV_i, pvalue_PercV_i] = stats.ttest_ind(frog_fluent[\"%V\"], frog_disfluent[\"%V\"], equal_var=False,  nan_policy='omit')\n",
        "[tstats_DeltaC_i, pvalue_DeltaC_i] = stats.ttest_ind(frog_fluent[\"DeltaC\"], frog_disfluent[\"DeltaC\"], equal_var=False, nan_policy= \"omit\")\n",
        "[tstats_DeltaV_i, pvalue_DeltaV_i] = stats.ttest_ind(frog_fluent[\"DeltaV\"], frog_disfluent[\"DeltaV\"], equal_var=False, nan_policy= \"omit\")\n",
        "[tstats_VarcoC_i, pvalue_VarcoC_i] = stats.ttest_ind(frog_fluent[\"VarcoC\"], frog_disfluent[\"VarcoC\"], equal_var=False, nan_policy= \"omit\")\n",
        "[tstats_VarcoV_i, pvalue_VarcoV_i] = stats.ttest_ind(frog_fluent[\"VarcoV\"], frog_disfluent[\"VarcoV\"], equal_var=False, nan_policy= \"omit\")"
      ]
    },
    {
      "cell_type": "code",
      "execution_count": null,
      "metadata": {
        "id": "iBeG-BS8rC5n"
      },
      "outputs": [],
      "source": [
        "# degrees of freedom\n",
        "dof = (len(frog_fluent)+len(frog_disfluent)-2)\n",
        "df_interview = (len(frog_fluent)+len(frog_disfluent))"
      ]
    },
    {
      "cell_type": "code",
      "execution_count": null,
      "metadata": {
        "id": "XaV-EIjZrC3Q"
      },
      "outputs": [],
      "source": [
        "cohens_d_nPVI_r = abs(frog_fluent.mean()[0]-frog_disfluent.mean()[0])/(((np.sqrt((len(frog_fluent)-1) * frog_fluent.std()[0])**2) + (np.sqrt((len(frog_disfluent)-1) * frog_disfluent.std()[0])**2))/dof)\n",
        "cohens_d_rPVI_r = abs(frog_fluent.mean()[1]-frog_disfluent.mean()[1])/(((np.sqrt((len(frog_fluent)-1) * frog_fluent.std()[1])**2) + (np.sqrt((len(frog_disfluent)-1) * frog_disfluent.std()[1])**2))/dof)\n",
        "cohens_d_PercV_r = abs(frog_fluent.mean()[2]-frog_disfluent.mean()[2])/(((np.sqrt((len(frog_fluent)-1) * frog_fluent.std()[2])**2) + (np.sqrt((len(frog_disfluent)-1) * frog_disfluent.std()[2])**2))/dof)\n",
        "cohens_d_DeltaC_r = abs(frog_fluent.mean()[3]-frog_disfluent.mean()[3])/(((np.sqrt((len(frog_fluent)-1) * frog_fluent.std()[3])**2) + (np.sqrt((len(frog_disfluent)-1) * frog_disfluent.std()[3])**2))/dof)\n",
        "cohens_d_DeltaV_r = abs(frog_fluent.mean()[4]-frog_disfluent.mean()[4])/(((np.sqrt((len(frog_fluent)-1) * frog_fluent.std()[4])**2) + (np.sqrt((len(frog_disfluent)-1) * frog_disfluent.std()[4])**2))/dof)\n",
        "cohens_d_VarcoC_r = abs(frog_fluent.mean()[5]-frog_disfluent.mean()[5])/(((np.sqrt((len(frog_fluent)-1) * frog_fluent.std()[5])**2) + (np.sqrt((len(frog_disfluent)-1) * frog_disfluent.std()[5])**2))/dof)\n",
        "cohens_d_VarcoV_r = abs(frog_fluent.mean()[6]-frog_disfluent.mean()[6])/(((np.sqrt((len(frog_fluent)-1) * frog_fluent.std()[6])**2) + (np.sqrt((len(frog_disfluent)-1) * frog_disfluent.std()[6])**2))/dof)"
      ]
    },
    {
      "cell_type": "code",
      "execution_count": null,
      "metadata": {
        "id": "N3bHUbEZrC03"
      },
      "outputs": [],
      "source": [
        "means = [frog_fluent.mean()[0], frog_disfluent.mean()[0], frog_fluent.mean()[1],frog_disfluent.mean()[1],frog_fluent.mean()[2], frog_disfluent.mean()[2], frog_fluent.mean()[3],frog_disfluent.mean()[3], frog_fluent.mean()[4],frog_disfluent.mean()[4], frog_fluent.mean()[5],frog_disfluent.mean()[5],frog_fluent.mean()[6], frog_disfluent.mean()[6]]\n",
        "sds = [frog_fluent.std()[0], frog_disfluent.std()[0], frog_fluent.std()[1],frog_disfluent.std()[1],frog_fluent.std()[2], frog_disfluent.std()[2], frog_fluent.std()[3],frog_disfluent.std()[3], frog_fluent.std()[4],frog_disfluent.std()[4], frog_fluent.std()[5],frog_disfluent.std()[5],frog_fluent.std()[6], frog_disfluent.std()[6]]"
      ]
    },
    {
      "cell_type": "code",
      "execution_count": null,
      "metadata": {
        "id": "Uk-Zp_R9rCyT"
      },
      "outputs": [],
      "source": [
        "p_vals = [pvalue_nPVI_i, pvalue_rPVI_i, pvalue_PercV_i, pvalue_DeltaC_i, pvalue_DeltaV_i, pvalue_VarcoC_i, pvalue_VarcoV_i]\n",
        "bc = 0.05/7         # bonferroni correction of dependent comparisons\n",
        "for p in range(0, len(p_vals)):\n",
        "  if p_vals[p] < bc:\n",
        "    p_vals[p] = '*' + str(round(p_vals[p],3))\n",
        "  else:\n",
        "    p_vals[p] = str(round(p_vals[p],3))"
      ]
    },
    {
      "cell_type": "code",
      "execution_count": null,
      "metadata": {
        "id": "D3PEuaJ5rCvi"
      },
      "outputs": [],
      "source": [
        "fig = go.Figure(data=[go.Table(\n",
        "    header=dict(values=['Rhythm Metrics', 'FluencyStatus', 'Mean','SD', 'df (T-Value)', 'p-Value', 'Effect Size'],\n",
        "                line_color='black',\n",
        "                fill_color='lightgray',\n",
        "                align='left'),\n",
        "    cells=dict(values=[[\"nPVI\",\"\", \"rPVI\", \"\",\"%V\", \"\",\"DeltaC\", \"\",\"DeltaV\",\"\", \"VarcoC\",\"\", \"VarcoV\",\"\"], # 1st column\n",
        "                      [\"Fluent\", \"Non-Fluent\", \"Fluent\", \"Non-Fluent\", \"Fluent\", \"Non-Fluent\", \"Fluent\", \"Non-Fluent\", \"Fluent\", \"Non-Fluent\", \"Fluent\", \"Non-Fluent\", \"Fluent\", \"Non-Fluent\"],\n",
        "                      [round(means[0],2),round(means[1],2),round(means[2],2),round(means[3],2),round(means[4],2),round(means[5],2),round(means[6],3),round(means[7],3),round(means[8],3),round(means[9],3),round(means[10],2),round(means[11],2),round(means[12],2),round(means[13],2) ],\n",
        "                       [round(sds[0],2),round(sds[1],2),round(sds[2],2),round(sds[3],2),round(sds[4],2),round(sds[5],2),round(sds[6],3),round(sds[7],3),round(sds[8],3),round(sds[9],3),round(sds[10],2),round(sds[11],2),round(sds[12],2),round(sds[13],2) ],\n",
        "                       [[df_interview, round(tstats_nPVI_i,3)],\"\", [df_interview, round(tstats_rPVI_i,3)], \"\",[df_interview, round(tstats_PercV_i,3)],\"\", [df_interview, round(tstats_DeltaC_i,3)],\"\", [df_interview, round(tstats_DeltaV_i,3)],\"\", [df_interview, round(tstats_VarcoC_i,3)],\"\", [df_interview, round(tstats_VarcoV_i,3)], \"\"],\n",
        "                       [p_vals[0],\"\", p_vals[1], \"\",p_vals[2],\"\", p_vals[3],\"\", p_vals[4],\"\", p_vals[5],\"\", p_vals[6], \"\"],\n",
        "                       [round(cohens_d_nPVI_r,3),\"\", round(cohens_d_rPVI_r,3), \"\",round(cohens_d_PercV_r,3),\"\", round(cohens_d_DeltaC_r,3),\"\", round(cohens_d_DeltaV_r,3),\"\", round(cohens_d_VarcoC_r,3),\"\", round(cohens_d_VarcoV_r,3), \"\"]], # 2nd column\n",
        "               line_color='darkslategray',\n",
        "               fill_color='white',\n",
        "               align='left'))\n",
        "])"
      ]
    },
    {
      "cell_type": "code",
      "execution_count": null,
      "metadata": {
        "colab": {
          "base_uri": "https://localhost:8080/",
          "height": 542
        },
        "id": "-mZjLw2CrOyE",
        "outputId": "78e5e497-5b74-44f1-9fcf-716221374005"
      },
      "outputs": [
        {
          "data": {
            "text/html": [
              "<html>\n",
              "<head><meta charset=\"utf-8\" /></head>\n",
              "<body>\n",
              "    <div>            <script src=\"https://cdnjs.cloudflare.com/ajax/libs/mathjax/2.7.5/MathJax.js?config=TeX-AMS-MML_SVG\"></script><script type=\"text/javascript\">if (window.MathJax && window.MathJax.Hub && window.MathJax.Hub.Config) {window.MathJax.Hub.Config({SVG: {font: \"STIX-Web\"}});}</script>                <script type=\"text/javascript\">window.PlotlyConfig = {MathJaxConfig: 'local'};</script>\n",
              "        <script src=\"https://cdn.plot.ly/plotly-2.18.2.min.js\"></script>                <div id=\"bbc13474-1378-4451-a89e-fe484dc546df\" class=\"plotly-graph-div\" style=\"height:525px; width:100%;\"></div>            <script type=\"text/javascript\">                                    window.PLOTLYENV=window.PLOTLYENV || {};                                    if (document.getElementById(\"bbc13474-1378-4451-a89e-fe484dc546df\")) {                    Plotly.newPlot(                        \"bbc13474-1378-4451-a89e-fe484dc546df\",                        [{\"cells\":{\"align\":\"left\",\"fill\":{\"color\":\"white\"},\"line\":{\"color\":\"darkslategray\"},\"values\":[[\"nPVI\",\"\",\"rPVI\",\"\",\"%V\",\"\",\"DeltaC\",\"\",\"DeltaV\",\"\",\"VarcoC\",\"\",\"VarcoV\",\"\"],[\"Fluent\",\"Non-Fluent\",\"Fluent\",\"Non-Fluent\",\"Fluent\",\"Non-Fluent\",\"Fluent\",\"Non-Fluent\",\"Fluent\",\"Non-Fluent\",\"Fluent\",\"Non-Fluent\",\"Fluent\",\"Non-Fluent\"],[67.27,69.56,0.05,0.06,45.84,48.84,0.035,0.047,0.048,0.065,56.8,64.17,60.15,65.3],[7.4,7.68,0.01,0.02,2.75,5.31,0.006,0.013,0.011,0.024,6.21,10.24,6.78,10.12],[[36,-0.909],\"\",[36,-2.219],\"\",[36,-2.129],\"\",[36,-3.471],\"\",[36,-2.779],\"\",[36,-2.61],\"\",[36,-1.792],\"\"],[\"0.37\",\"\",\"0.035\",\"\",\"0.043\",\"\",\"*0.002\",\"\",\"0.011\",\"\",\"0.014\",\"\",\"0.083\",\"\"],[0.303,\"\",0.77,\"\",0.745,\"\",1.231,\"\",0.993,\"\",0.896,\"\",0.609,\"\"]]},\"header\":{\"align\":\"left\",\"fill\":{\"color\":\"lightgray\"},\"line\":{\"color\":\"black\"},\"values\":[\"Rhythm Metrics\",\"FluencyStatus\",\"Mean\",\"SD\",\"df (T-Value)\",\"p-Value\",\"Effect Size\"]},\"type\":\"table\"}],                        {\"template\":{\"data\":{\"histogram2dcontour\":[{\"type\":\"histogram2dcontour\",\"colorbar\":{\"outlinewidth\":0,\"ticks\":\"\"},\"colorscale\":[[0.0,\"#0d0887\"],[0.1111111111111111,\"#46039f\"],[0.2222222222222222,\"#7201a8\"],[0.3333333333333333,\"#9c179e\"],[0.4444444444444444,\"#bd3786\"],[0.5555555555555556,\"#d8576b\"],[0.6666666666666666,\"#ed7953\"],[0.7777777777777778,\"#fb9f3a\"],[0.8888888888888888,\"#fdca26\"],[1.0,\"#f0f921\"]]}],\"choropleth\":[{\"type\":\"choropleth\",\"colorbar\":{\"outlinewidth\":0,\"ticks\":\"\"}}],\"histogram2d\":[{\"type\":\"histogram2d\",\"colorbar\":{\"outlinewidth\":0,\"ticks\":\"\"},\"colorscale\":[[0.0,\"#0d0887\"],[0.1111111111111111,\"#46039f\"],[0.2222222222222222,\"#7201a8\"],[0.3333333333333333,\"#9c179e\"],[0.4444444444444444,\"#bd3786\"],[0.5555555555555556,\"#d8576b\"],[0.6666666666666666,\"#ed7953\"],[0.7777777777777778,\"#fb9f3a\"],[0.8888888888888888,\"#fdca26\"],[1.0,\"#f0f921\"]]}],\"heatmap\":[{\"type\":\"heatmap\",\"colorbar\":{\"outlinewidth\":0,\"ticks\":\"\"},\"colorscale\":[[0.0,\"#0d0887\"],[0.1111111111111111,\"#46039f\"],[0.2222222222222222,\"#7201a8\"],[0.3333333333333333,\"#9c179e\"],[0.4444444444444444,\"#bd3786\"],[0.5555555555555556,\"#d8576b\"],[0.6666666666666666,\"#ed7953\"],[0.7777777777777778,\"#fb9f3a\"],[0.8888888888888888,\"#fdca26\"],[1.0,\"#f0f921\"]]}],\"heatmapgl\":[{\"type\":\"heatmapgl\",\"colorbar\":{\"outlinewidth\":0,\"ticks\":\"\"},\"colorscale\":[[0.0,\"#0d0887\"],[0.1111111111111111,\"#46039f\"],[0.2222222222222222,\"#7201a8\"],[0.3333333333333333,\"#9c179e\"],[0.4444444444444444,\"#bd3786\"],[0.5555555555555556,\"#d8576b\"],[0.6666666666666666,\"#ed7953\"],[0.7777777777777778,\"#fb9f3a\"],[0.8888888888888888,\"#fdca26\"],[1.0,\"#f0f921\"]]}],\"contourcarpet\":[{\"type\":\"contourcarpet\",\"colorbar\":{\"outlinewidth\":0,\"ticks\":\"\"}}],\"contour\":[{\"type\":\"contour\",\"colorbar\":{\"outlinewidth\":0,\"ticks\":\"\"},\"colorscale\":[[0.0,\"#0d0887\"],[0.1111111111111111,\"#46039f\"],[0.2222222222222222,\"#7201a8\"],[0.3333333333333333,\"#9c179e\"],[0.4444444444444444,\"#bd3786\"],[0.5555555555555556,\"#d8576b\"],[0.6666666666666666,\"#ed7953\"],[0.7777777777777778,\"#fb9f3a\"],[0.8888888888888888,\"#fdca26\"],[1.0,\"#f0f921\"]]}],\"surface\":[{\"type\":\"surface\",\"colorbar\":{\"outlinewidth\":0,\"ticks\":\"\"},\"colorscale\":[[0.0,\"#0d0887\"],[0.1111111111111111,\"#46039f\"],[0.2222222222222222,\"#7201a8\"],[0.3333333333333333,\"#9c179e\"],[0.4444444444444444,\"#bd3786\"],[0.5555555555555556,\"#d8576b\"],[0.6666666666666666,\"#ed7953\"],[0.7777777777777778,\"#fb9f3a\"],[0.8888888888888888,\"#fdca26\"],[1.0,\"#f0f921\"]]}],\"mesh3d\":[{\"type\":\"mesh3d\",\"colorbar\":{\"outlinewidth\":0,\"ticks\":\"\"}}],\"scatter\":[{\"fillpattern\":{\"fillmode\":\"overlay\",\"size\":10,\"solidity\":0.2},\"type\":\"scatter\"}],\"parcoords\":[{\"type\":\"parcoords\",\"line\":{\"colorbar\":{\"outlinewidth\":0,\"ticks\":\"\"}}}],\"scatterpolargl\":[{\"type\":\"scatterpolargl\",\"marker\":{\"colorbar\":{\"outlinewidth\":0,\"ticks\":\"\"}}}],\"bar\":[{\"error_x\":{\"color\":\"#2a3f5f\"},\"error_y\":{\"color\":\"#2a3f5f\"},\"marker\":{\"line\":{\"color\":\"#E5ECF6\",\"width\":0.5},\"pattern\":{\"fillmode\":\"overlay\",\"size\":10,\"solidity\":0.2}},\"type\":\"bar\"}],\"scattergeo\":[{\"type\":\"scattergeo\",\"marker\":{\"colorbar\":{\"outlinewidth\":0,\"ticks\":\"\"}}}],\"scatterpolar\":[{\"type\":\"scatterpolar\",\"marker\":{\"colorbar\":{\"outlinewidth\":0,\"ticks\":\"\"}}}],\"histogram\":[{\"marker\":{\"pattern\":{\"fillmode\":\"overlay\",\"size\":10,\"solidity\":0.2}},\"type\":\"histogram\"}],\"scattergl\":[{\"type\":\"scattergl\",\"marker\":{\"colorbar\":{\"outlinewidth\":0,\"ticks\":\"\"}}}],\"scatter3d\":[{\"type\":\"scatter3d\",\"line\":{\"colorbar\":{\"outlinewidth\":0,\"ticks\":\"\"}},\"marker\":{\"colorbar\":{\"outlinewidth\":0,\"ticks\":\"\"}}}],\"scattermapbox\":[{\"type\":\"scattermapbox\",\"marker\":{\"colorbar\":{\"outlinewidth\":0,\"ticks\":\"\"}}}],\"scatterternary\":[{\"type\":\"scatterternary\",\"marker\":{\"colorbar\":{\"outlinewidth\":0,\"ticks\":\"\"}}}],\"scattercarpet\":[{\"type\":\"scattercarpet\",\"marker\":{\"colorbar\":{\"outlinewidth\":0,\"ticks\":\"\"}}}],\"carpet\":[{\"aaxis\":{\"endlinecolor\":\"#2a3f5f\",\"gridcolor\":\"white\",\"linecolor\":\"white\",\"minorgridcolor\":\"white\",\"startlinecolor\":\"#2a3f5f\"},\"baxis\":{\"endlinecolor\":\"#2a3f5f\",\"gridcolor\":\"white\",\"linecolor\":\"white\",\"minorgridcolor\":\"white\",\"startlinecolor\":\"#2a3f5f\"},\"type\":\"carpet\"}],\"table\":[{\"cells\":{\"fill\":{\"color\":\"#EBF0F8\"},\"line\":{\"color\":\"white\"}},\"header\":{\"fill\":{\"color\":\"#C8D4E3\"},\"line\":{\"color\":\"white\"}},\"type\":\"table\"}],\"barpolar\":[{\"marker\":{\"line\":{\"color\":\"#E5ECF6\",\"width\":0.5},\"pattern\":{\"fillmode\":\"overlay\",\"size\":10,\"solidity\":0.2}},\"type\":\"barpolar\"}],\"pie\":[{\"automargin\":true,\"type\":\"pie\"}]},\"layout\":{\"autotypenumbers\":\"strict\",\"colorway\":[\"#636efa\",\"#EF553B\",\"#00cc96\",\"#ab63fa\",\"#FFA15A\",\"#19d3f3\",\"#FF6692\",\"#B6E880\",\"#FF97FF\",\"#FECB52\"],\"font\":{\"color\":\"#2a3f5f\"},\"hovermode\":\"closest\",\"hoverlabel\":{\"align\":\"left\"},\"paper_bgcolor\":\"white\",\"plot_bgcolor\":\"#E5ECF6\",\"polar\":{\"bgcolor\":\"#E5ECF6\",\"angularaxis\":{\"gridcolor\":\"white\",\"linecolor\":\"white\",\"ticks\":\"\"},\"radialaxis\":{\"gridcolor\":\"white\",\"linecolor\":\"white\",\"ticks\":\"\"}},\"ternary\":{\"bgcolor\":\"#E5ECF6\",\"aaxis\":{\"gridcolor\":\"white\",\"linecolor\":\"white\",\"ticks\":\"\"},\"baxis\":{\"gridcolor\":\"white\",\"linecolor\":\"white\",\"ticks\":\"\"},\"caxis\":{\"gridcolor\":\"white\",\"linecolor\":\"white\",\"ticks\":\"\"}},\"coloraxis\":{\"colorbar\":{\"outlinewidth\":0,\"ticks\":\"\"}},\"colorscale\":{\"sequential\":[[0.0,\"#0d0887\"],[0.1111111111111111,\"#46039f\"],[0.2222222222222222,\"#7201a8\"],[0.3333333333333333,\"#9c179e\"],[0.4444444444444444,\"#bd3786\"],[0.5555555555555556,\"#d8576b\"],[0.6666666666666666,\"#ed7953\"],[0.7777777777777778,\"#fb9f3a\"],[0.8888888888888888,\"#fdca26\"],[1.0,\"#f0f921\"]],\"sequentialminus\":[[0.0,\"#0d0887\"],[0.1111111111111111,\"#46039f\"],[0.2222222222222222,\"#7201a8\"],[0.3333333333333333,\"#9c179e\"],[0.4444444444444444,\"#bd3786\"],[0.5555555555555556,\"#d8576b\"],[0.6666666666666666,\"#ed7953\"],[0.7777777777777778,\"#fb9f3a\"],[0.8888888888888888,\"#fdca26\"],[1.0,\"#f0f921\"]],\"diverging\":[[0,\"#8e0152\"],[0.1,\"#c51b7d\"],[0.2,\"#de77ae\"],[0.3,\"#f1b6da\"],[0.4,\"#fde0ef\"],[0.5,\"#f7f7f7\"],[0.6,\"#e6f5d0\"],[0.7,\"#b8e186\"],[0.8,\"#7fbc41\"],[0.9,\"#4d9221\"],[1,\"#276419\"]]},\"xaxis\":{\"gridcolor\":\"white\",\"linecolor\":\"white\",\"ticks\":\"\",\"title\":{\"standoff\":15},\"zerolinecolor\":\"white\",\"automargin\":true,\"zerolinewidth\":2},\"yaxis\":{\"gridcolor\":\"white\",\"linecolor\":\"white\",\"ticks\":\"\",\"title\":{\"standoff\":15},\"zerolinecolor\":\"white\",\"automargin\":true,\"zerolinewidth\":2},\"scene\":{\"xaxis\":{\"backgroundcolor\":\"#E5ECF6\",\"gridcolor\":\"white\",\"linecolor\":\"white\",\"showbackground\":true,\"ticks\":\"\",\"zerolinecolor\":\"white\",\"gridwidth\":2},\"yaxis\":{\"backgroundcolor\":\"#E5ECF6\",\"gridcolor\":\"white\",\"linecolor\":\"white\",\"showbackground\":true,\"ticks\":\"\",\"zerolinecolor\":\"white\",\"gridwidth\":2},\"zaxis\":{\"backgroundcolor\":\"#E5ECF6\",\"gridcolor\":\"white\",\"linecolor\":\"white\",\"showbackground\":true,\"ticks\":\"\",\"zerolinecolor\":\"white\",\"gridwidth\":2}},\"shapedefaults\":{\"line\":{\"color\":\"#2a3f5f\"}},\"annotationdefaults\":{\"arrowcolor\":\"#2a3f5f\",\"arrowhead\":0,\"arrowwidth\":1},\"geo\":{\"bgcolor\":\"white\",\"landcolor\":\"#E5ECF6\",\"subunitcolor\":\"white\",\"showland\":true,\"showlakes\":true,\"lakecolor\":\"white\"},\"title\":{\"x\":0.05},\"mapbox\":{\"style\":\"light\"}}}},                        {\"responsive\": true}                    ).then(function(){\n",
              "                            \n",
              "var gd = document.getElementById('bbc13474-1378-4451-a89e-fe484dc546df');\n",
              "var x = new MutationObserver(function (mutations, observer) {{\n",
              "        var display = window.getComputedStyle(gd).display;\n",
              "        if (!display || display === 'none') {{\n",
              "            console.log([gd, 'removed!']);\n",
              "            Plotly.purge(gd);\n",
              "            observer.disconnect();\n",
              "        }}\n",
              "}});\n",
              "\n",
              "// Listen for the removal of the full notebook cells\n",
              "var notebookContainer = gd.closest('#notebook-container');\n",
              "if (notebookContainer) {{\n",
              "    x.observe(notebookContainer, {childList: true});\n",
              "}}\n",
              "\n",
              "// Listen for the clearing of the current output cell\n",
              "var outputEl = gd.closest('.output');\n",
              "if (outputEl) {{\n",
              "    x.observe(outputEl, {childList: true});\n",
              "}}\n",
              "\n",
              "                        })                };                            </script>        </div>\n",
              "</body>\n",
              "</html>"
            ]
          },
          "metadata": {},
          "output_type": "display_data"
        }
      ],
      "source": [
        "fig.show()"
      ]
    },
    {
      "cell_type": "code",
      "execution_count": null,
      "metadata": {
        "id": "qJ-8ZYY4rQDK"
      },
      "outputs": [],
      "source": [
        "fig.write_image(\"utteranceType_frog_results.png\")"
      ]
    }
  ],
  "metadata": {
    "colab": {
      "provenance": [],
      "include_colab_link": true
    },
    "kernelspec": {
      "display_name": "Python 3",
      "name": "python3"
    },
    "language_info": {
      "name": "python"
    }
  },
  "nbformat": 4,
  "nbformat_minor": 0
}